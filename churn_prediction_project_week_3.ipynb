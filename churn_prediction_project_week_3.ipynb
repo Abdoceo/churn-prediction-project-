{
  "nbformat": 4,
  "nbformat_minor": 0,
  "metadata": {
    "colab": {
      "name": "churn prediction project week 3.ipynb",
      "provenance": []
    },
    "kernelspec": {
      "name": "python3",
      "display_name": "Python 3"
    },
    "language_info": {
      "name": "python"
    }
  },
  "cells": [
    {
      "cell_type": "markdown",
      "metadata": {
        "id": "SdfpFb17zNsW"
      },
      "source": [
        "# **Churn prediction project**"
      ]
    },
    {
      "cell_type": "code",
      "metadata": {
        "id": "X8QknIHBzGYv"
      },
      "source": [
        "import pandas as pd\n",
        "import numpy as np\n",
        "\n",
        "import matplotlib.pyplot as plt"
      ],
      "execution_count": null,
      "outputs": []
    },
    {
      "cell_type": "code",
      "metadata": {
        "id": "MKBlecwFzk_e"
      },
      "source": [
        "data = 'https://raw.githubusercontent.com/alexeygrigorev/mlbookcamp-code/master/chapter-03-churn-prediction/WA_Fn-UseC_-Telco-Customer-Churn.csv'"
      ],
      "execution_count": null,
      "outputs": []
    },
    {
      "cell_type": "code",
      "metadata": {
        "colab": {
          "base_uri": "https://localhost:8080/"
        },
        "id": "AzkkqmOrzz2O",
        "outputId": "b2443ce2-6856-4f63-a46d-708f41e76cd2"
      },
      "source": [
        "!wget $data -O data-week-3.csv\n"
      ],
      "execution_count": null,
      "outputs": [
        {
          "output_type": "stream",
          "name": "stdout",
          "text": [
            "--2021-12-07 12:02:19--  https://raw.githubusercontent.com/alexeygrigorev/mlbookcamp-code/master/chapter-03-churn-prediction/WA_Fn-UseC_-Telco-Customer-Churn.csv\n",
            "Resolving raw.githubusercontent.com (raw.githubusercontent.com)... 185.199.108.133, 185.199.109.133, 185.199.110.133, ...\n",
            "Connecting to raw.githubusercontent.com (raw.githubusercontent.com)|185.199.108.133|:443... connected.\n",
            "HTTP request sent, awaiting response... 200 OK\n",
            "Length: 977501 (955K) [text/plain]\n",
            "Saving to: ‘data-week-3.csv’\n",
            "\n",
            "data-week-3.csv     100%[===================>] 954.59K  --.-KB/s    in 0.02s   \n",
            "\n",
            "2021-12-07 12:02:19 (45.9 MB/s) - ‘data-week-3.csv’ saved [977501/977501]\n",
            "\n"
          ]
        }
      ]
    },
    {
      "cell_type": "code",
      "metadata": {
        "colab": {
          "base_uri": "https://localhost:8080/",
          "height": 313
        },
        "id": "YWPycuhmz7lG",
        "outputId": "51107986-3d73-4b01-9b4c-f2186b1a89fe"
      },
      "source": [
        "df = pd.read_csv('data-week-3.csv')\n",
        "df.head()"
      ],
      "execution_count": null,
      "outputs": [
        {
          "output_type": "execute_result",
          "data": {
            "text/html": [
              "<div>\n",
              "<style scoped>\n",
              "    .dataframe tbody tr th:only-of-type {\n",
              "        vertical-align: middle;\n",
              "    }\n",
              "\n",
              "    .dataframe tbody tr th {\n",
              "        vertical-align: top;\n",
              "    }\n",
              "\n",
              "    .dataframe thead th {\n",
              "        text-align: right;\n",
              "    }\n",
              "</style>\n",
              "<table border=\"1\" class=\"dataframe\">\n",
              "  <thead>\n",
              "    <tr style=\"text-align: right;\">\n",
              "      <th></th>\n",
              "      <th>customerID</th>\n",
              "      <th>gender</th>\n",
              "      <th>SeniorCitizen</th>\n",
              "      <th>Partner</th>\n",
              "      <th>Dependents</th>\n",
              "      <th>tenure</th>\n",
              "      <th>PhoneService</th>\n",
              "      <th>MultipleLines</th>\n",
              "      <th>InternetService</th>\n",
              "      <th>OnlineSecurity</th>\n",
              "      <th>OnlineBackup</th>\n",
              "      <th>DeviceProtection</th>\n",
              "      <th>TechSupport</th>\n",
              "      <th>StreamingTV</th>\n",
              "      <th>StreamingMovies</th>\n",
              "      <th>Contract</th>\n",
              "      <th>PaperlessBilling</th>\n",
              "      <th>PaymentMethod</th>\n",
              "      <th>MonthlyCharges</th>\n",
              "      <th>TotalCharges</th>\n",
              "      <th>Churn</th>\n",
              "    </tr>\n",
              "  </thead>\n",
              "  <tbody>\n",
              "    <tr>\n",
              "      <th>0</th>\n",
              "      <td>7590-VHVEG</td>\n",
              "      <td>Female</td>\n",
              "      <td>0</td>\n",
              "      <td>Yes</td>\n",
              "      <td>No</td>\n",
              "      <td>1</td>\n",
              "      <td>No</td>\n",
              "      <td>No phone service</td>\n",
              "      <td>DSL</td>\n",
              "      <td>No</td>\n",
              "      <td>Yes</td>\n",
              "      <td>No</td>\n",
              "      <td>No</td>\n",
              "      <td>No</td>\n",
              "      <td>No</td>\n",
              "      <td>Month-to-month</td>\n",
              "      <td>Yes</td>\n",
              "      <td>Electronic check</td>\n",
              "      <td>29.85</td>\n",
              "      <td>29.85</td>\n",
              "      <td>No</td>\n",
              "    </tr>\n",
              "    <tr>\n",
              "      <th>1</th>\n",
              "      <td>5575-GNVDE</td>\n",
              "      <td>Male</td>\n",
              "      <td>0</td>\n",
              "      <td>No</td>\n",
              "      <td>No</td>\n",
              "      <td>34</td>\n",
              "      <td>Yes</td>\n",
              "      <td>No</td>\n",
              "      <td>DSL</td>\n",
              "      <td>Yes</td>\n",
              "      <td>No</td>\n",
              "      <td>Yes</td>\n",
              "      <td>No</td>\n",
              "      <td>No</td>\n",
              "      <td>No</td>\n",
              "      <td>One year</td>\n",
              "      <td>No</td>\n",
              "      <td>Mailed check</td>\n",
              "      <td>56.95</td>\n",
              "      <td>1889.5</td>\n",
              "      <td>No</td>\n",
              "    </tr>\n",
              "    <tr>\n",
              "      <th>2</th>\n",
              "      <td>3668-QPYBK</td>\n",
              "      <td>Male</td>\n",
              "      <td>0</td>\n",
              "      <td>No</td>\n",
              "      <td>No</td>\n",
              "      <td>2</td>\n",
              "      <td>Yes</td>\n",
              "      <td>No</td>\n",
              "      <td>DSL</td>\n",
              "      <td>Yes</td>\n",
              "      <td>Yes</td>\n",
              "      <td>No</td>\n",
              "      <td>No</td>\n",
              "      <td>No</td>\n",
              "      <td>No</td>\n",
              "      <td>Month-to-month</td>\n",
              "      <td>Yes</td>\n",
              "      <td>Mailed check</td>\n",
              "      <td>53.85</td>\n",
              "      <td>108.15</td>\n",
              "      <td>Yes</td>\n",
              "    </tr>\n",
              "    <tr>\n",
              "      <th>3</th>\n",
              "      <td>7795-CFOCW</td>\n",
              "      <td>Male</td>\n",
              "      <td>0</td>\n",
              "      <td>No</td>\n",
              "      <td>No</td>\n",
              "      <td>45</td>\n",
              "      <td>No</td>\n",
              "      <td>No phone service</td>\n",
              "      <td>DSL</td>\n",
              "      <td>Yes</td>\n",
              "      <td>No</td>\n",
              "      <td>Yes</td>\n",
              "      <td>Yes</td>\n",
              "      <td>No</td>\n",
              "      <td>No</td>\n",
              "      <td>One year</td>\n",
              "      <td>No</td>\n",
              "      <td>Bank transfer (automatic)</td>\n",
              "      <td>42.30</td>\n",
              "      <td>1840.75</td>\n",
              "      <td>No</td>\n",
              "    </tr>\n",
              "    <tr>\n",
              "      <th>4</th>\n",
              "      <td>9237-HQITU</td>\n",
              "      <td>Female</td>\n",
              "      <td>0</td>\n",
              "      <td>No</td>\n",
              "      <td>No</td>\n",
              "      <td>2</td>\n",
              "      <td>Yes</td>\n",
              "      <td>No</td>\n",
              "      <td>Fiber optic</td>\n",
              "      <td>No</td>\n",
              "      <td>No</td>\n",
              "      <td>No</td>\n",
              "      <td>No</td>\n",
              "      <td>No</td>\n",
              "      <td>No</td>\n",
              "      <td>Month-to-month</td>\n",
              "      <td>Yes</td>\n",
              "      <td>Electronic check</td>\n",
              "      <td>70.70</td>\n",
              "      <td>151.65</td>\n",
              "      <td>Yes</td>\n",
              "    </tr>\n",
              "  </tbody>\n",
              "</table>\n",
              "</div>"
            ],
            "text/plain": [
              "   customerID  gender  SeniorCitizen  ... MonthlyCharges TotalCharges  Churn\n",
              "0  7590-VHVEG  Female              0  ...          29.85        29.85     No\n",
              "1  5575-GNVDE    Male              0  ...          56.95       1889.5     No\n",
              "2  3668-QPYBK    Male              0  ...          53.85       108.15    Yes\n",
              "3  7795-CFOCW    Male              0  ...          42.30      1840.75     No\n",
              "4  9237-HQITU  Female              0  ...          70.70       151.65    Yes\n",
              "\n",
              "[5 rows x 21 columns]"
            ]
          },
          "metadata": {},
          "execution_count": 4
        }
      ]
    },
    {
      "cell_type": "code",
      "metadata": {
        "id": "kf9Rdy_R0G2u"
      },
      "source": [
        "df.columns = df.columns.str.lower().str.replace(' ','_')\n",
        "\n",
        "categorical_columns = list(df.dtypes[df.dtypes == 'object'].index)\n",
        "for c in categorical_columns:\n",
        "  df[c] = df[c].str.lower().str.replace(' ','_')"
      ],
      "execution_count": null,
      "outputs": []
    },
    {
      "cell_type": "code",
      "metadata": {
        "id": "6zcIqVZW5_Cn"
      },
      "source": [
        "tc = pd.to_numeric(df.totalcharges, errors='coerce')"
      ],
      "execution_count": null,
      "outputs": []
    },
    {
      "cell_type": "code",
      "metadata": {
        "id": "vu2S5v5r7gjY"
      },
      "source": [
        "df.totalcharges = df.totalcharges.fillna(0)"
      ],
      "execution_count": null,
      "outputs": []
    },
    {
      "cell_type": "code",
      "metadata": {
        "colab": {
          "base_uri": "https://localhost:8080/"
        },
        "id": "t_0Om87k8OJD",
        "outputId": "299a7337-2c4c-43c4-d348-41b804644379"
      },
      "source": [
        "df.churn.head()"
      ],
      "execution_count": null,
      "outputs": [
        {
          "output_type": "execute_result",
          "data": {
            "text/plain": [
              "0     no\n",
              "1     no\n",
              "2    yes\n",
              "3     no\n",
              "4    yes\n",
              "Name: churn, dtype: object"
            ]
          },
          "metadata": {},
          "execution_count": 8
        }
      ]
    },
    {
      "cell_type": "code",
      "metadata": {
        "id": "wpwmNfe-8SIQ"
      },
      "source": [
        "df.churn = (df.churn == 'yes').astype(int)"
      ],
      "execution_count": null,
      "outputs": []
    },
    {
      "cell_type": "markdown",
      "metadata": {
        "id": "lbpX5kMJ-yMt"
      },
      "source": [
        "###################################"
      ]
    },
    {
      "cell_type": "code",
      "metadata": {
        "id": "kyeXbh9K9pX3"
      },
      "source": [
        "from sklearn.model_selection import train_test_split"
      ],
      "execution_count": null,
      "outputs": []
    },
    {
      "cell_type": "code",
      "metadata": {
        "id": "Ur0wzCL6-sjs"
      },
      "source": [
        "df_full_train, df_test = train_test_split(df, test_size=0.2, random_state=1)\n",
        "df_train, df_val = train_test_split(df_full_train, test_size=0.25, random_state=1)"
      ],
      "execution_count": null,
      "outputs": []
    },
    {
      "cell_type": "code",
      "metadata": {
        "colab": {
          "base_uri": "https://localhost:8080/"
        },
        "id": "FELNsfVg-95G",
        "outputId": "57ec00ab-d248-496c-8e05-a5a474bc7e80"
      },
      "source": [
        "len(df_train), len(df_val), len(df_test)"
      ],
      "execution_count": null,
      "outputs": [
        {
          "output_type": "execute_result",
          "data": {
            "text/plain": [
              "(4225, 1409, 1409)"
            ]
          },
          "metadata": {},
          "execution_count": 12
        }
      ]
    },
    {
      "cell_type": "code",
      "metadata": {
        "id": "rZmZV2OK_Jy9"
      },
      "source": [
        "df_train = df_train.reset_index(drop=True)\n",
        "df_val = df_val.reset_index(drop=True)\n",
        "df_test = df_test.reset_index(drop=True)"
      ],
      "execution_count": null,
      "outputs": []
    },
    {
      "cell_type": "code",
      "metadata": {
        "id": "kxOhpsOD_-Sn"
      },
      "source": [
        "y_train = df_train.churn.values\n",
        "y_val = df_train.churn.values\n",
        "y_test = df_train.churn.values"
      ],
      "execution_count": null,
      "outputs": []
    },
    {
      "cell_type": "code",
      "metadata": {
        "id": "mwRSZh5-AO1t"
      },
      "source": [
        "del df_train['churn']\n",
        "del df_test['churn']\n",
        "del df_val['churn']"
      ],
      "execution_count": null,
      "outputs": []
    },
    {
      "cell_type": "markdown",
      "metadata": {
        "id": "KL3vOipdAdHj"
      },
      "source": [
        "# **EDA**\n"
      ]
    },
    {
      "cell_type": "code",
      "metadata": {
        "id": "4qLvkr8jA4kC"
      },
      "source": [
        "df_full_train = df_full_train.reset_index(drop=True)"
      ],
      "execution_count": null,
      "outputs": []
    },
    {
      "cell_type": "code",
      "metadata": {
        "colab": {
          "base_uri": "https://localhost:8080/"
        },
        "id": "o_m_I-grAZUx",
        "outputId": "8426d77c-a5a5-46fc-ce99-327568b01c64"
      },
      "source": [
        "df_full_train.isnull().sum()"
      ],
      "execution_count": null,
      "outputs": [
        {
          "output_type": "execute_result",
          "data": {
            "text/plain": [
              "customerid          0\n",
              "gender              0\n",
              "seniorcitizen       0\n",
              "partner             0\n",
              "dependents          0\n",
              "tenure              0\n",
              "phoneservice        0\n",
              "multiplelines       0\n",
              "internetservice     0\n",
              "onlinesecurity      0\n",
              "onlinebackup        0\n",
              "deviceprotection    0\n",
              "techsupport         0\n",
              "streamingtv         0\n",
              "streamingmovies     0\n",
              "contract            0\n",
              "paperlessbilling    0\n",
              "paymentmethod       0\n",
              "monthlycharges      0\n",
              "totalcharges        0\n",
              "churn               0\n",
              "dtype: int64"
            ]
          },
          "metadata": {},
          "execution_count": 17
        }
      ]
    },
    {
      "cell_type": "code",
      "metadata": {
        "colab": {
          "base_uri": "https://localhost:8080/"
        },
        "id": "sIjBw1eNAsG3",
        "outputId": "abb5a53c-e677-4cff-89f8-2229db44c1f5"
      },
      "source": [
        "df_full_train.churn.mean()"
      ],
      "execution_count": null,
      "outputs": [
        {
          "output_type": "execute_result",
          "data": {
            "text/plain": [
              "0.26996805111821087"
            ]
          },
          "metadata": {},
          "execution_count": 18
        }
      ]
    },
    {
      "cell_type": "code",
      "metadata": {
        "id": "Jzr9luwrBODn"
      },
      "source": [
        "numerical = ['tenure' , 'monthlycharges', 'totalcharges']"
      ],
      "execution_count": null,
      "outputs": []
    },
    {
      "cell_type": "code",
      "metadata": {
        "id": "er7HGddYBcWa"
      },
      "source": [
        "categorical = [\n",
        "    'gender',\n",
        "    'seniorcitizen',\n",
        "    'partner',\n",
        "    'dependents',\n",
        "    'phoneservice',\n",
        "    'multiplelines',\n",
        "    'internetservice',\n",
        "    'onlinesecurity',\n",
        "    'onlinebackup',\n",
        "    'deviceprotection',\n",
        "    'techsupport',\n",
        "    'streamingtv',\n",
        "    'streamingmovies',\n",
        "    'contract',\n",
        "    'paperlessbilling',\n",
        "    'paymentmethod',\n",
        "]"
      ],
      "execution_count": null,
      "outputs": []
    },
    {
      "cell_type": "code",
      "metadata": {
        "colab": {
          "base_uri": "https://localhost:8080/"
        },
        "id": "bxsFXAPFBit1",
        "outputId": "97b27d42-a3d6-42d3-fee8-5923effed5c6"
      },
      "source": [
        "df_full_train[categorical].nunique()"
      ],
      "execution_count": null,
      "outputs": [
        {
          "output_type": "execute_result",
          "data": {
            "text/plain": [
              "gender              2\n",
              "seniorcitizen       2\n",
              "partner             2\n",
              "dependents          2\n",
              "phoneservice        2\n",
              "multiplelines       3\n",
              "internetservice     3\n",
              "onlinesecurity      3\n",
              "onlinebackup        3\n",
              "deviceprotection    3\n",
              "techsupport         3\n",
              "streamingtv         3\n",
              "streamingmovies     3\n",
              "contract            3\n",
              "paperlessbilling    2\n",
              "paymentmethod       4\n",
              "dtype: int64"
            ]
          },
          "metadata": {},
          "execution_count": 21
        }
      ]
    },
    {
      "cell_type": "code",
      "metadata": {
        "colab": {
          "base_uri": "https://localhost:8080/",
          "height": 226
        },
        "id": "Ih0hXDAkBzdF",
        "outputId": "812a36f7-0415-492a-db30-3efda61f18a3"
      },
      "source": [
        "df_full_train.head()"
      ],
      "execution_count": null,
      "outputs": [
        {
          "output_type": "execute_result",
          "data": {
            "text/html": [
              "<div>\n",
              "<style scoped>\n",
              "    .dataframe tbody tr th:only-of-type {\n",
              "        vertical-align: middle;\n",
              "    }\n",
              "\n",
              "    .dataframe tbody tr th {\n",
              "        vertical-align: top;\n",
              "    }\n",
              "\n",
              "    .dataframe thead th {\n",
              "        text-align: right;\n",
              "    }\n",
              "</style>\n",
              "<table border=\"1\" class=\"dataframe\">\n",
              "  <thead>\n",
              "    <tr style=\"text-align: right;\">\n",
              "      <th></th>\n",
              "      <th>customerid</th>\n",
              "      <th>gender</th>\n",
              "      <th>seniorcitizen</th>\n",
              "      <th>partner</th>\n",
              "      <th>dependents</th>\n",
              "      <th>tenure</th>\n",
              "      <th>phoneservice</th>\n",
              "      <th>multiplelines</th>\n",
              "      <th>internetservice</th>\n",
              "      <th>onlinesecurity</th>\n",
              "      <th>onlinebackup</th>\n",
              "      <th>deviceprotection</th>\n",
              "      <th>techsupport</th>\n",
              "      <th>streamingtv</th>\n",
              "      <th>streamingmovies</th>\n",
              "      <th>contract</th>\n",
              "      <th>paperlessbilling</th>\n",
              "      <th>paymentmethod</th>\n",
              "      <th>monthlycharges</th>\n",
              "      <th>totalcharges</th>\n",
              "      <th>churn</th>\n",
              "    </tr>\n",
              "  </thead>\n",
              "  <tbody>\n",
              "    <tr>\n",
              "      <th>0</th>\n",
              "      <td>5442-pptjy</td>\n",
              "      <td>male</td>\n",
              "      <td>0</td>\n",
              "      <td>yes</td>\n",
              "      <td>yes</td>\n",
              "      <td>12</td>\n",
              "      <td>yes</td>\n",
              "      <td>no</td>\n",
              "      <td>no</td>\n",
              "      <td>no_internet_service</td>\n",
              "      <td>no_internet_service</td>\n",
              "      <td>no_internet_service</td>\n",
              "      <td>no_internet_service</td>\n",
              "      <td>no_internet_service</td>\n",
              "      <td>no_internet_service</td>\n",
              "      <td>two_year</td>\n",
              "      <td>no</td>\n",
              "      <td>mailed_check</td>\n",
              "      <td>19.70</td>\n",
              "      <td>258.35</td>\n",
              "      <td>0</td>\n",
              "    </tr>\n",
              "    <tr>\n",
              "      <th>1</th>\n",
              "      <td>6261-rcvns</td>\n",
              "      <td>female</td>\n",
              "      <td>0</td>\n",
              "      <td>no</td>\n",
              "      <td>no</td>\n",
              "      <td>42</td>\n",
              "      <td>yes</td>\n",
              "      <td>no</td>\n",
              "      <td>dsl</td>\n",
              "      <td>yes</td>\n",
              "      <td>yes</td>\n",
              "      <td>yes</td>\n",
              "      <td>yes</td>\n",
              "      <td>no</td>\n",
              "      <td>yes</td>\n",
              "      <td>one_year</td>\n",
              "      <td>no</td>\n",
              "      <td>credit_card_(automatic)</td>\n",
              "      <td>73.90</td>\n",
              "      <td>3160.55</td>\n",
              "      <td>1</td>\n",
              "    </tr>\n",
              "    <tr>\n",
              "      <th>2</th>\n",
              "      <td>2176-osjuv</td>\n",
              "      <td>male</td>\n",
              "      <td>0</td>\n",
              "      <td>yes</td>\n",
              "      <td>no</td>\n",
              "      <td>71</td>\n",
              "      <td>yes</td>\n",
              "      <td>yes</td>\n",
              "      <td>dsl</td>\n",
              "      <td>yes</td>\n",
              "      <td>yes</td>\n",
              "      <td>no</td>\n",
              "      <td>yes</td>\n",
              "      <td>no</td>\n",
              "      <td>no</td>\n",
              "      <td>two_year</td>\n",
              "      <td>no</td>\n",
              "      <td>bank_transfer_(automatic)</td>\n",
              "      <td>65.15</td>\n",
              "      <td>4681.75</td>\n",
              "      <td>0</td>\n",
              "    </tr>\n",
              "    <tr>\n",
              "      <th>3</th>\n",
              "      <td>6161-erdgd</td>\n",
              "      <td>male</td>\n",
              "      <td>0</td>\n",
              "      <td>yes</td>\n",
              "      <td>yes</td>\n",
              "      <td>71</td>\n",
              "      <td>yes</td>\n",
              "      <td>yes</td>\n",
              "      <td>dsl</td>\n",
              "      <td>yes</td>\n",
              "      <td>no</td>\n",
              "      <td>yes</td>\n",
              "      <td>yes</td>\n",
              "      <td>yes</td>\n",
              "      <td>yes</td>\n",
              "      <td>one_year</td>\n",
              "      <td>no</td>\n",
              "      <td>electronic_check</td>\n",
              "      <td>85.45</td>\n",
              "      <td>6300.85</td>\n",
              "      <td>0</td>\n",
              "    </tr>\n",
              "    <tr>\n",
              "      <th>4</th>\n",
              "      <td>2364-ufrom</td>\n",
              "      <td>male</td>\n",
              "      <td>0</td>\n",
              "      <td>no</td>\n",
              "      <td>no</td>\n",
              "      <td>30</td>\n",
              "      <td>yes</td>\n",
              "      <td>no</td>\n",
              "      <td>dsl</td>\n",
              "      <td>yes</td>\n",
              "      <td>yes</td>\n",
              "      <td>no</td>\n",
              "      <td>yes</td>\n",
              "      <td>yes</td>\n",
              "      <td>no</td>\n",
              "      <td>one_year</td>\n",
              "      <td>no</td>\n",
              "      <td>electronic_check</td>\n",
              "      <td>70.40</td>\n",
              "      <td>2044.75</td>\n",
              "      <td>0</td>\n",
              "    </tr>\n",
              "  </tbody>\n",
              "</table>\n",
              "</div>"
            ],
            "text/plain": [
              "   customerid  gender  seniorcitizen  ... monthlycharges totalcharges  churn\n",
              "0  5442-pptjy    male              0  ...          19.70       258.35      0\n",
              "1  6261-rcvns  female              0  ...          73.90      3160.55      1\n",
              "2  2176-osjuv    male              0  ...          65.15      4681.75      0\n",
              "3  6161-erdgd    male              0  ...          85.45      6300.85      0\n",
              "4  2364-ufrom    male              0  ...          70.40      2044.75      0\n",
              "\n",
              "[5 rows x 21 columns]"
            ]
          },
          "metadata": {},
          "execution_count": 22
        }
      ]
    },
    {
      "cell_type": "code",
      "metadata": {
        "colab": {
          "base_uri": "https://localhost:8080/"
        },
        "id": "vI4AwXKSCTlt",
        "outputId": "91c5c355-dece-46b3-d915-b938aaebbb92"
      },
      "source": [
        "churn_female = df_full_train[df_full_train.gender == 'female'].churn.mean()\n",
        "churn_female"
      ],
      "execution_count": null,
      "outputs": [
        {
          "output_type": "execute_result",
          "data": {
            "text/plain": [
              "0.27682403433476394"
            ]
          },
          "metadata": {},
          "execution_count": 23
        }
      ]
    },
    {
      "cell_type": "code",
      "metadata": {
        "colab": {
          "base_uri": "https://localhost:8080/"
        },
        "id": "EqM_AIg_DFsu",
        "outputId": "b2c20186-5183-49f9-e8e6-21c5ce50dd5a"
      },
      "source": [
        "churn_male = df_full_train[df_full_train.gender == 'male'].churn.mean()\n",
        "churn_male"
      ],
      "execution_count": null,
      "outputs": [
        {
          "output_type": "execute_result",
          "data": {
            "text/plain": [
              "0.2632135306553911"
            ]
          },
          "metadata": {},
          "execution_count": 24
        }
      ]
    },
    {
      "cell_type": "code",
      "metadata": {
        "colab": {
          "base_uri": "https://localhost:8080/"
        },
        "id": "GTtUhNEjDgyi",
        "outputId": "8b945044-4018-47c5-9cea-441fe3085d55"
      },
      "source": [
        "global_churn = df_full_train.churn.mean()\n",
        "global_churn"
      ],
      "execution_count": null,
      "outputs": [
        {
          "output_type": "execute_result",
          "data": {
            "text/plain": [
              "0.26996805111821087"
            ]
          },
          "metadata": {},
          "execution_count": 25
        }
      ]
    },
    {
      "cell_type": "code",
      "metadata": {
        "colab": {
          "base_uri": "https://localhost:8080/"
        },
        "id": "iN4cg0RXEjgo",
        "outputId": "55a4390d-5ea1-4638-e340-665c1a95cdfc"
      },
      "source": [
        "global_churn - churn_female"
      ],
      "execution_count": null,
      "outputs": [
        {
          "output_type": "execute_result",
          "data": {
            "text/plain": [
              "-0.006855983216553063"
            ]
          },
          "metadata": {},
          "execution_count": 26
        }
      ]
    },
    {
      "cell_type": "code",
      "metadata": {
        "colab": {
          "base_uri": "https://localhost:8080/"
        },
        "id": "z3JDC5mAEpzL",
        "outputId": "6bec4c59-d7b5-4d75-9989-d76017c84f28"
      },
      "source": [
        "df_full_train.partner.value_counts()"
      ],
      "execution_count": null,
      "outputs": [
        {
          "output_type": "execute_result",
          "data": {
            "text/plain": [
              "no     2932\n",
              "yes    2702\n",
              "Name: partner, dtype: int64"
            ]
          },
          "metadata": {},
          "execution_count": 27
        }
      ]
    },
    {
      "cell_type": "code",
      "metadata": {
        "colab": {
          "base_uri": "https://localhost:8080/"
        },
        "id": "rJcuE_O2EyFi",
        "outputId": "61c368c5-8f69-4736-e15e-71e2d4125682"
      },
      "source": [
        "churn_partner = df_full_train[df_full_train.partner == 'yes'].churn.mean()\n",
        "churn_partner"
      ],
      "execution_count": null,
      "outputs": [
        {
          "output_type": "execute_result",
          "data": {
            "text/plain": [
              "0.20503330866025166"
            ]
          },
          "metadata": {},
          "execution_count": 28
        }
      ]
    },
    {
      "cell_type": "code",
      "metadata": {
        "colab": {
          "base_uri": "https://localhost:8080/"
        },
        "id": "06WYZPwyFcih",
        "outputId": "74c07e1d-bd77-4b92-f175-ab8923bf2850"
      },
      "source": [
        "global_churn - churn_partner"
      ],
      "execution_count": null,
      "outputs": [
        {
          "output_type": "execute_result",
          "data": {
            "text/plain": [
              "0.06493474245795922"
            ]
          },
          "metadata": {},
          "execution_count": 29
        }
      ]
    },
    {
      "cell_type": "code",
      "metadata": {
        "colab": {
          "base_uri": "https://localhost:8080/"
        },
        "id": "ruXHrkQxFjHa",
        "outputId": "44f6d16b-d708-4b27-a98b-a3cce3e469d4"
      },
      "source": [
        "churn_no_partner = df_full_train[df_full_train.partner == 'no'].churn.mean()\n",
        "churn_no_partner"
      ],
      "execution_count": null,
      "outputs": [
        {
          "output_type": "execute_result",
          "data": {
            "text/plain": [
              "0.3298090040927694"
            ]
          },
          "metadata": {},
          "execution_count": 30
        }
      ]
    },
    {
      "cell_type": "code",
      "metadata": {
        "colab": {
          "base_uri": "https://localhost:8080/"
        },
        "id": "5mXXGL86FlFA",
        "outputId": "29fbbc4f-eda0-4155-b8f5-e5a781d20467"
      },
      "source": [
        "global_churn - churn_no_partner"
      ],
      "execution_count": null,
      "outputs": [
        {
          "output_type": "execute_result",
          "data": {
            "text/plain": [
              "-0.05984095297455855"
            ]
          },
          "metadata": {},
          "execution_count": 31
        }
      ]
    },
    {
      "cell_type": "markdown",
      "metadata": {
        "id": "G_1olY4kFxNH"
      },
      "source": [
        "**risk ratio**"
      ]
    },
    {
      "cell_type": "code",
      "metadata": {
        "colab": {
          "base_uri": "https://localhost:8080/"
        },
        "id": "4W4JX-YdFrE9",
        "outputId": "bd3fc60a-d012-4de0-8c11-3d3015ec30ec"
      },
      "source": [
        "churn_no_partner / global_churn"
      ],
      "execution_count": null,
      "outputs": [
        {
          "output_type": "execute_result",
          "data": {
            "text/plain": [
              "1.2216593879412643"
            ]
          },
          "metadata": {},
          "execution_count": 32
        }
      ]
    },
    {
      "cell_type": "code",
      "metadata": {
        "colab": {
          "base_uri": "https://localhost:8080/"
        },
        "id": "tulvHlkfF0mX",
        "outputId": "706012dd-2aab-4b36-e9a1-b1512f05a57f"
      },
      "source": [
        "churn_partner / global_churn"
      ],
      "execution_count": null,
      "outputs": [
        {
          "output_type": "execute_result",
          "data": {
            "text/plain": [
              "0.7594724924338315"
            ]
          },
          "metadata": {},
          "execution_count": 33
        }
      ]
    },
    {
      "cell_type": "code",
      "metadata": {
        "id": "gdB8IsorF6rQ"
      },
      "source": [
        "from IPython.display import display"
      ],
      "execution_count": null,
      "outputs": []
    },
    {
      "cell_type": "code",
      "metadata": {
        "colab": {
          "base_uri": "https://localhost:8080/",
          "height": 1000
        },
        "id": "83lTNbnZGFQ1",
        "outputId": "0305f891-2661-465f-bb58-cdc38be3d25d"
      },
      "source": [
        "for c in categorical:\n",
        "    print(c)\n",
        "    df_group = df_full_train.groupby(c).churn.agg(['mean', 'count'])\n",
        "    df_group['diff'] = df_group['mean'] - global_churn\n",
        "    df_group['risk'] = df_group['mean'] / global_churn\n",
        "    display(df_group)\n",
        "    print()\n",
        "    print()"
      ],
      "execution_count": null,
      "outputs": [
        {
          "output_type": "stream",
          "name": "stdout",
          "text": [
            "gender\n"
          ]
        },
        {
          "output_type": "display_data",
          "data": {
            "text/html": [
              "<div>\n",
              "<style scoped>\n",
              "    .dataframe tbody tr th:only-of-type {\n",
              "        vertical-align: middle;\n",
              "    }\n",
              "\n",
              "    .dataframe tbody tr th {\n",
              "        vertical-align: top;\n",
              "    }\n",
              "\n",
              "    .dataframe thead th {\n",
              "        text-align: right;\n",
              "    }\n",
              "</style>\n",
              "<table border=\"1\" class=\"dataframe\">\n",
              "  <thead>\n",
              "    <tr style=\"text-align: right;\">\n",
              "      <th></th>\n",
              "      <th>mean</th>\n",
              "      <th>count</th>\n",
              "      <th>diff</th>\n",
              "      <th>risk</th>\n",
              "    </tr>\n",
              "    <tr>\n",
              "      <th>gender</th>\n",
              "      <th></th>\n",
              "      <th></th>\n",
              "      <th></th>\n",
              "      <th></th>\n",
              "    </tr>\n",
              "  </thead>\n",
              "  <tbody>\n",
              "    <tr>\n",
              "      <th>female</th>\n",
              "      <td>0.276824</td>\n",
              "      <td>2796</td>\n",
              "      <td>0.006856</td>\n",
              "      <td>1.025396</td>\n",
              "    </tr>\n",
              "    <tr>\n",
              "      <th>male</th>\n",
              "      <td>0.263214</td>\n",
              "      <td>2838</td>\n",
              "      <td>-0.006755</td>\n",
              "      <td>0.974980</td>\n",
              "    </tr>\n",
              "  </tbody>\n",
              "</table>\n",
              "</div>"
            ],
            "text/plain": [
              "            mean  count      diff      risk\n",
              "gender                                     \n",
              "female  0.276824   2796  0.006856  1.025396\n",
              "male    0.263214   2838 -0.006755  0.974980"
            ]
          },
          "metadata": {}
        },
        {
          "output_type": "stream",
          "name": "stdout",
          "text": [
            "\n",
            "\n",
            "seniorcitizen\n"
          ]
        },
        {
          "output_type": "display_data",
          "data": {
            "text/html": [
              "<div>\n",
              "<style scoped>\n",
              "    .dataframe tbody tr th:only-of-type {\n",
              "        vertical-align: middle;\n",
              "    }\n",
              "\n",
              "    .dataframe tbody tr th {\n",
              "        vertical-align: top;\n",
              "    }\n",
              "\n",
              "    .dataframe thead th {\n",
              "        text-align: right;\n",
              "    }\n",
              "</style>\n",
              "<table border=\"1\" class=\"dataframe\">\n",
              "  <thead>\n",
              "    <tr style=\"text-align: right;\">\n",
              "      <th></th>\n",
              "      <th>mean</th>\n",
              "      <th>count</th>\n",
              "      <th>diff</th>\n",
              "      <th>risk</th>\n",
              "    </tr>\n",
              "    <tr>\n",
              "      <th>seniorcitizen</th>\n",
              "      <th></th>\n",
              "      <th></th>\n",
              "      <th></th>\n",
              "      <th></th>\n",
              "    </tr>\n",
              "  </thead>\n",
              "  <tbody>\n",
              "    <tr>\n",
              "      <th>0</th>\n",
              "      <td>0.242270</td>\n",
              "      <td>4722</td>\n",
              "      <td>-0.027698</td>\n",
              "      <td>0.897403</td>\n",
              "    </tr>\n",
              "    <tr>\n",
              "      <th>1</th>\n",
              "      <td>0.413377</td>\n",
              "      <td>912</td>\n",
              "      <td>0.143409</td>\n",
              "      <td>1.531208</td>\n",
              "    </tr>\n",
              "  </tbody>\n",
              "</table>\n",
              "</div>"
            ],
            "text/plain": [
              "                   mean  count      diff      risk\n",
              "seniorcitizen                                     \n",
              "0              0.242270   4722 -0.027698  0.897403\n",
              "1              0.413377    912  0.143409  1.531208"
            ]
          },
          "metadata": {}
        },
        {
          "output_type": "stream",
          "name": "stdout",
          "text": [
            "\n",
            "\n",
            "partner\n"
          ]
        },
        {
          "output_type": "display_data",
          "data": {
            "text/html": [
              "<div>\n",
              "<style scoped>\n",
              "    .dataframe tbody tr th:only-of-type {\n",
              "        vertical-align: middle;\n",
              "    }\n",
              "\n",
              "    .dataframe tbody tr th {\n",
              "        vertical-align: top;\n",
              "    }\n",
              "\n",
              "    .dataframe thead th {\n",
              "        text-align: right;\n",
              "    }\n",
              "</style>\n",
              "<table border=\"1\" class=\"dataframe\">\n",
              "  <thead>\n",
              "    <tr style=\"text-align: right;\">\n",
              "      <th></th>\n",
              "      <th>mean</th>\n",
              "      <th>count</th>\n",
              "      <th>diff</th>\n",
              "      <th>risk</th>\n",
              "    </tr>\n",
              "    <tr>\n",
              "      <th>partner</th>\n",
              "      <th></th>\n",
              "      <th></th>\n",
              "      <th></th>\n",
              "      <th></th>\n",
              "    </tr>\n",
              "  </thead>\n",
              "  <tbody>\n",
              "    <tr>\n",
              "      <th>no</th>\n",
              "      <td>0.329809</td>\n",
              "      <td>2932</td>\n",
              "      <td>0.059841</td>\n",
              "      <td>1.221659</td>\n",
              "    </tr>\n",
              "    <tr>\n",
              "      <th>yes</th>\n",
              "      <td>0.205033</td>\n",
              "      <td>2702</td>\n",
              "      <td>-0.064935</td>\n",
              "      <td>0.759472</td>\n",
              "    </tr>\n",
              "  </tbody>\n",
              "</table>\n",
              "</div>"
            ],
            "text/plain": [
              "             mean  count      diff      risk\n",
              "partner                                     \n",
              "no       0.329809   2932  0.059841  1.221659\n",
              "yes      0.205033   2702 -0.064935  0.759472"
            ]
          },
          "metadata": {}
        },
        {
          "output_type": "stream",
          "name": "stdout",
          "text": [
            "\n",
            "\n",
            "dependents\n"
          ]
        },
        {
          "output_type": "display_data",
          "data": {
            "text/html": [
              "<div>\n",
              "<style scoped>\n",
              "    .dataframe tbody tr th:only-of-type {\n",
              "        vertical-align: middle;\n",
              "    }\n",
              "\n",
              "    .dataframe tbody tr th {\n",
              "        vertical-align: top;\n",
              "    }\n",
              "\n",
              "    .dataframe thead th {\n",
              "        text-align: right;\n",
              "    }\n",
              "</style>\n",
              "<table border=\"1\" class=\"dataframe\">\n",
              "  <thead>\n",
              "    <tr style=\"text-align: right;\">\n",
              "      <th></th>\n",
              "      <th>mean</th>\n",
              "      <th>count</th>\n",
              "      <th>diff</th>\n",
              "      <th>risk</th>\n",
              "    </tr>\n",
              "    <tr>\n",
              "      <th>dependents</th>\n",
              "      <th></th>\n",
              "      <th></th>\n",
              "      <th></th>\n",
              "      <th></th>\n",
              "    </tr>\n",
              "  </thead>\n",
              "  <tbody>\n",
              "    <tr>\n",
              "      <th>no</th>\n",
              "      <td>0.313760</td>\n",
              "      <td>3968</td>\n",
              "      <td>0.043792</td>\n",
              "      <td>1.162212</td>\n",
              "    </tr>\n",
              "    <tr>\n",
              "      <th>yes</th>\n",
              "      <td>0.165666</td>\n",
              "      <td>1666</td>\n",
              "      <td>-0.104302</td>\n",
              "      <td>0.613651</td>\n",
              "    </tr>\n",
              "  </tbody>\n",
              "</table>\n",
              "</div>"
            ],
            "text/plain": [
              "                mean  count      diff      risk\n",
              "dependents                                     \n",
              "no          0.313760   3968  0.043792  1.162212\n",
              "yes         0.165666   1666 -0.104302  0.613651"
            ]
          },
          "metadata": {}
        },
        {
          "output_type": "stream",
          "name": "stdout",
          "text": [
            "\n",
            "\n",
            "phoneservice\n"
          ]
        },
        {
          "output_type": "display_data",
          "data": {
            "text/html": [
              "<div>\n",
              "<style scoped>\n",
              "    .dataframe tbody tr th:only-of-type {\n",
              "        vertical-align: middle;\n",
              "    }\n",
              "\n",
              "    .dataframe tbody tr th {\n",
              "        vertical-align: top;\n",
              "    }\n",
              "\n",
              "    .dataframe thead th {\n",
              "        text-align: right;\n",
              "    }\n",
              "</style>\n",
              "<table border=\"1\" class=\"dataframe\">\n",
              "  <thead>\n",
              "    <tr style=\"text-align: right;\">\n",
              "      <th></th>\n",
              "      <th>mean</th>\n",
              "      <th>count</th>\n",
              "      <th>diff</th>\n",
              "      <th>risk</th>\n",
              "    </tr>\n",
              "    <tr>\n",
              "      <th>phoneservice</th>\n",
              "      <th></th>\n",
              "      <th></th>\n",
              "      <th></th>\n",
              "      <th></th>\n",
              "    </tr>\n",
              "  </thead>\n",
              "  <tbody>\n",
              "    <tr>\n",
              "      <th>no</th>\n",
              "      <td>0.241316</td>\n",
              "      <td>547</td>\n",
              "      <td>-0.028652</td>\n",
              "      <td>0.893870</td>\n",
              "    </tr>\n",
              "    <tr>\n",
              "      <th>yes</th>\n",
              "      <td>0.273049</td>\n",
              "      <td>5087</td>\n",
              "      <td>0.003081</td>\n",
              "      <td>1.011412</td>\n",
              "    </tr>\n",
              "  </tbody>\n",
              "</table>\n",
              "</div>"
            ],
            "text/plain": [
              "                  mean  count      diff      risk\n",
              "phoneservice                                     \n",
              "no            0.241316    547 -0.028652  0.893870\n",
              "yes           0.273049   5087  0.003081  1.011412"
            ]
          },
          "metadata": {}
        },
        {
          "output_type": "stream",
          "name": "stdout",
          "text": [
            "\n",
            "\n",
            "multiplelines\n"
          ]
        },
        {
          "output_type": "display_data",
          "data": {
            "text/html": [
              "<div>\n",
              "<style scoped>\n",
              "    .dataframe tbody tr th:only-of-type {\n",
              "        vertical-align: middle;\n",
              "    }\n",
              "\n",
              "    .dataframe tbody tr th {\n",
              "        vertical-align: top;\n",
              "    }\n",
              "\n",
              "    .dataframe thead th {\n",
              "        text-align: right;\n",
              "    }\n",
              "</style>\n",
              "<table border=\"1\" class=\"dataframe\">\n",
              "  <thead>\n",
              "    <tr style=\"text-align: right;\">\n",
              "      <th></th>\n",
              "      <th>mean</th>\n",
              "      <th>count</th>\n",
              "      <th>diff</th>\n",
              "      <th>risk</th>\n",
              "    </tr>\n",
              "    <tr>\n",
              "      <th>multiplelines</th>\n",
              "      <th></th>\n",
              "      <th></th>\n",
              "      <th></th>\n",
              "      <th></th>\n",
              "    </tr>\n",
              "  </thead>\n",
              "  <tbody>\n",
              "    <tr>\n",
              "      <th>no</th>\n",
              "      <td>0.257407</td>\n",
              "      <td>2700</td>\n",
              "      <td>-0.012561</td>\n",
              "      <td>0.953474</td>\n",
              "    </tr>\n",
              "    <tr>\n",
              "      <th>no_phone_service</th>\n",
              "      <td>0.241316</td>\n",
              "      <td>547</td>\n",
              "      <td>-0.028652</td>\n",
              "      <td>0.893870</td>\n",
              "    </tr>\n",
              "    <tr>\n",
              "      <th>yes</th>\n",
              "      <td>0.290742</td>\n",
              "      <td>2387</td>\n",
              "      <td>0.020773</td>\n",
              "      <td>1.076948</td>\n",
              "    </tr>\n",
              "  </tbody>\n",
              "</table>\n",
              "</div>"
            ],
            "text/plain": [
              "                      mean  count      diff      risk\n",
              "multiplelines                                        \n",
              "no                0.257407   2700 -0.012561  0.953474\n",
              "no_phone_service  0.241316    547 -0.028652  0.893870\n",
              "yes               0.290742   2387  0.020773  1.076948"
            ]
          },
          "metadata": {}
        },
        {
          "output_type": "stream",
          "name": "stdout",
          "text": [
            "\n",
            "\n",
            "internetservice\n"
          ]
        },
        {
          "output_type": "display_data",
          "data": {
            "text/html": [
              "<div>\n",
              "<style scoped>\n",
              "    .dataframe tbody tr th:only-of-type {\n",
              "        vertical-align: middle;\n",
              "    }\n",
              "\n",
              "    .dataframe tbody tr th {\n",
              "        vertical-align: top;\n",
              "    }\n",
              "\n",
              "    .dataframe thead th {\n",
              "        text-align: right;\n",
              "    }\n",
              "</style>\n",
              "<table border=\"1\" class=\"dataframe\">\n",
              "  <thead>\n",
              "    <tr style=\"text-align: right;\">\n",
              "      <th></th>\n",
              "      <th>mean</th>\n",
              "      <th>count</th>\n",
              "      <th>diff</th>\n",
              "      <th>risk</th>\n",
              "    </tr>\n",
              "    <tr>\n",
              "      <th>internetservice</th>\n",
              "      <th></th>\n",
              "      <th></th>\n",
              "      <th></th>\n",
              "      <th></th>\n",
              "    </tr>\n",
              "  </thead>\n",
              "  <tbody>\n",
              "    <tr>\n",
              "      <th>dsl</th>\n",
              "      <td>0.192347</td>\n",
              "      <td>1934</td>\n",
              "      <td>-0.077621</td>\n",
              "      <td>0.712482</td>\n",
              "    </tr>\n",
              "    <tr>\n",
              "      <th>fiber_optic</th>\n",
              "      <td>0.425171</td>\n",
              "      <td>2479</td>\n",
              "      <td>0.155203</td>\n",
              "      <td>1.574895</td>\n",
              "    </tr>\n",
              "    <tr>\n",
              "      <th>no</th>\n",
              "      <td>0.077805</td>\n",
              "      <td>1221</td>\n",
              "      <td>-0.192163</td>\n",
              "      <td>0.288201</td>\n",
              "    </tr>\n",
              "  </tbody>\n",
              "</table>\n",
              "</div>"
            ],
            "text/plain": [
              "                     mean  count      diff      risk\n",
              "internetservice                                     \n",
              "dsl              0.192347   1934 -0.077621  0.712482\n",
              "fiber_optic      0.425171   2479  0.155203  1.574895\n",
              "no               0.077805   1221 -0.192163  0.288201"
            ]
          },
          "metadata": {}
        },
        {
          "output_type": "stream",
          "name": "stdout",
          "text": [
            "\n",
            "\n",
            "onlinesecurity\n"
          ]
        },
        {
          "output_type": "display_data",
          "data": {
            "text/html": [
              "<div>\n",
              "<style scoped>\n",
              "    .dataframe tbody tr th:only-of-type {\n",
              "        vertical-align: middle;\n",
              "    }\n",
              "\n",
              "    .dataframe tbody tr th {\n",
              "        vertical-align: top;\n",
              "    }\n",
              "\n",
              "    .dataframe thead th {\n",
              "        text-align: right;\n",
              "    }\n",
              "</style>\n",
              "<table border=\"1\" class=\"dataframe\">\n",
              "  <thead>\n",
              "    <tr style=\"text-align: right;\">\n",
              "      <th></th>\n",
              "      <th>mean</th>\n",
              "      <th>count</th>\n",
              "      <th>diff</th>\n",
              "      <th>risk</th>\n",
              "    </tr>\n",
              "    <tr>\n",
              "      <th>onlinesecurity</th>\n",
              "      <th></th>\n",
              "      <th></th>\n",
              "      <th></th>\n",
              "      <th></th>\n",
              "    </tr>\n",
              "  </thead>\n",
              "  <tbody>\n",
              "    <tr>\n",
              "      <th>no</th>\n",
              "      <td>0.420921</td>\n",
              "      <td>2801</td>\n",
              "      <td>0.150953</td>\n",
              "      <td>1.559152</td>\n",
              "    </tr>\n",
              "    <tr>\n",
              "      <th>no_internet_service</th>\n",
              "      <td>0.077805</td>\n",
              "      <td>1221</td>\n",
              "      <td>-0.192163</td>\n",
              "      <td>0.288201</td>\n",
              "    </tr>\n",
              "    <tr>\n",
              "      <th>yes</th>\n",
              "      <td>0.153226</td>\n",
              "      <td>1612</td>\n",
              "      <td>-0.116742</td>\n",
              "      <td>0.567570</td>\n",
              "    </tr>\n",
              "  </tbody>\n",
              "</table>\n",
              "</div>"
            ],
            "text/plain": [
              "                         mean  count      diff      risk\n",
              "onlinesecurity                                          \n",
              "no                   0.420921   2801  0.150953  1.559152\n",
              "no_internet_service  0.077805   1221 -0.192163  0.288201\n",
              "yes                  0.153226   1612 -0.116742  0.567570"
            ]
          },
          "metadata": {}
        },
        {
          "output_type": "stream",
          "name": "stdout",
          "text": [
            "\n",
            "\n",
            "onlinebackup\n"
          ]
        },
        {
          "output_type": "display_data",
          "data": {
            "text/html": [
              "<div>\n",
              "<style scoped>\n",
              "    .dataframe tbody tr th:only-of-type {\n",
              "        vertical-align: middle;\n",
              "    }\n",
              "\n",
              "    .dataframe tbody tr th {\n",
              "        vertical-align: top;\n",
              "    }\n",
              "\n",
              "    .dataframe thead th {\n",
              "        text-align: right;\n",
              "    }\n",
              "</style>\n",
              "<table border=\"1\" class=\"dataframe\">\n",
              "  <thead>\n",
              "    <tr style=\"text-align: right;\">\n",
              "      <th></th>\n",
              "      <th>mean</th>\n",
              "      <th>count</th>\n",
              "      <th>diff</th>\n",
              "      <th>risk</th>\n",
              "    </tr>\n",
              "    <tr>\n",
              "      <th>onlinebackup</th>\n",
              "      <th></th>\n",
              "      <th></th>\n",
              "      <th></th>\n",
              "      <th></th>\n",
              "    </tr>\n",
              "  </thead>\n",
              "  <tbody>\n",
              "    <tr>\n",
              "      <th>no</th>\n",
              "      <td>0.404323</td>\n",
              "      <td>2498</td>\n",
              "      <td>0.134355</td>\n",
              "      <td>1.497672</td>\n",
              "    </tr>\n",
              "    <tr>\n",
              "      <th>no_internet_service</th>\n",
              "      <td>0.077805</td>\n",
              "      <td>1221</td>\n",
              "      <td>-0.192163</td>\n",
              "      <td>0.288201</td>\n",
              "    </tr>\n",
              "    <tr>\n",
              "      <th>yes</th>\n",
              "      <td>0.217232</td>\n",
              "      <td>1915</td>\n",
              "      <td>-0.052736</td>\n",
              "      <td>0.804660</td>\n",
              "    </tr>\n",
              "  </tbody>\n",
              "</table>\n",
              "</div>"
            ],
            "text/plain": [
              "                         mean  count      diff      risk\n",
              "onlinebackup                                            \n",
              "no                   0.404323   2498  0.134355  1.497672\n",
              "no_internet_service  0.077805   1221 -0.192163  0.288201\n",
              "yes                  0.217232   1915 -0.052736  0.804660"
            ]
          },
          "metadata": {}
        },
        {
          "output_type": "stream",
          "name": "stdout",
          "text": [
            "\n",
            "\n",
            "deviceprotection\n"
          ]
        },
        {
          "output_type": "display_data",
          "data": {
            "text/html": [
              "<div>\n",
              "<style scoped>\n",
              "    .dataframe tbody tr th:only-of-type {\n",
              "        vertical-align: middle;\n",
              "    }\n",
              "\n",
              "    .dataframe tbody tr th {\n",
              "        vertical-align: top;\n",
              "    }\n",
              "\n",
              "    .dataframe thead th {\n",
              "        text-align: right;\n",
              "    }\n",
              "</style>\n",
              "<table border=\"1\" class=\"dataframe\">\n",
              "  <thead>\n",
              "    <tr style=\"text-align: right;\">\n",
              "      <th></th>\n",
              "      <th>mean</th>\n",
              "      <th>count</th>\n",
              "      <th>diff</th>\n",
              "      <th>risk</th>\n",
              "    </tr>\n",
              "    <tr>\n",
              "      <th>deviceprotection</th>\n",
              "      <th></th>\n",
              "      <th></th>\n",
              "      <th></th>\n",
              "      <th></th>\n",
              "    </tr>\n",
              "  </thead>\n",
              "  <tbody>\n",
              "    <tr>\n",
              "      <th>no</th>\n",
              "      <td>0.395875</td>\n",
              "      <td>2473</td>\n",
              "      <td>0.125907</td>\n",
              "      <td>1.466379</td>\n",
              "    </tr>\n",
              "    <tr>\n",
              "      <th>no_internet_service</th>\n",
              "      <td>0.077805</td>\n",
              "      <td>1221</td>\n",
              "      <td>-0.192163</td>\n",
              "      <td>0.288201</td>\n",
              "    </tr>\n",
              "    <tr>\n",
              "      <th>yes</th>\n",
              "      <td>0.230412</td>\n",
              "      <td>1940</td>\n",
              "      <td>-0.039556</td>\n",
              "      <td>0.853480</td>\n",
              "    </tr>\n",
              "  </tbody>\n",
              "</table>\n",
              "</div>"
            ],
            "text/plain": [
              "                         mean  count      diff      risk\n",
              "deviceprotection                                        \n",
              "no                   0.395875   2473  0.125907  1.466379\n",
              "no_internet_service  0.077805   1221 -0.192163  0.288201\n",
              "yes                  0.230412   1940 -0.039556  0.853480"
            ]
          },
          "metadata": {}
        },
        {
          "output_type": "stream",
          "name": "stdout",
          "text": [
            "\n",
            "\n",
            "techsupport\n"
          ]
        },
        {
          "output_type": "display_data",
          "data": {
            "text/html": [
              "<div>\n",
              "<style scoped>\n",
              "    .dataframe tbody tr th:only-of-type {\n",
              "        vertical-align: middle;\n",
              "    }\n",
              "\n",
              "    .dataframe tbody tr th {\n",
              "        vertical-align: top;\n",
              "    }\n",
              "\n",
              "    .dataframe thead th {\n",
              "        text-align: right;\n",
              "    }\n",
              "</style>\n",
              "<table border=\"1\" class=\"dataframe\">\n",
              "  <thead>\n",
              "    <tr style=\"text-align: right;\">\n",
              "      <th></th>\n",
              "      <th>mean</th>\n",
              "      <th>count</th>\n",
              "      <th>diff</th>\n",
              "      <th>risk</th>\n",
              "    </tr>\n",
              "    <tr>\n",
              "      <th>techsupport</th>\n",
              "      <th></th>\n",
              "      <th></th>\n",
              "      <th></th>\n",
              "      <th></th>\n",
              "    </tr>\n",
              "  </thead>\n",
              "  <tbody>\n",
              "    <tr>\n",
              "      <th>no</th>\n",
              "      <td>0.418914</td>\n",
              "      <td>2781</td>\n",
              "      <td>0.148946</td>\n",
              "      <td>1.551717</td>\n",
              "    </tr>\n",
              "    <tr>\n",
              "      <th>no_internet_service</th>\n",
              "      <td>0.077805</td>\n",
              "      <td>1221</td>\n",
              "      <td>-0.192163</td>\n",
              "      <td>0.288201</td>\n",
              "    </tr>\n",
              "    <tr>\n",
              "      <th>yes</th>\n",
              "      <td>0.159926</td>\n",
              "      <td>1632</td>\n",
              "      <td>-0.110042</td>\n",
              "      <td>0.592390</td>\n",
              "    </tr>\n",
              "  </tbody>\n",
              "</table>\n",
              "</div>"
            ],
            "text/plain": [
              "                         mean  count      diff      risk\n",
              "techsupport                                             \n",
              "no                   0.418914   2781  0.148946  1.551717\n",
              "no_internet_service  0.077805   1221 -0.192163  0.288201\n",
              "yes                  0.159926   1632 -0.110042  0.592390"
            ]
          },
          "metadata": {}
        },
        {
          "output_type": "stream",
          "name": "stdout",
          "text": [
            "\n",
            "\n",
            "streamingtv\n"
          ]
        },
        {
          "output_type": "display_data",
          "data": {
            "text/html": [
              "<div>\n",
              "<style scoped>\n",
              "    .dataframe tbody tr th:only-of-type {\n",
              "        vertical-align: middle;\n",
              "    }\n",
              "\n",
              "    .dataframe tbody tr th {\n",
              "        vertical-align: top;\n",
              "    }\n",
              "\n",
              "    .dataframe thead th {\n",
              "        text-align: right;\n",
              "    }\n",
              "</style>\n",
              "<table border=\"1\" class=\"dataframe\">\n",
              "  <thead>\n",
              "    <tr style=\"text-align: right;\">\n",
              "      <th></th>\n",
              "      <th>mean</th>\n",
              "      <th>count</th>\n",
              "      <th>diff</th>\n",
              "      <th>risk</th>\n",
              "    </tr>\n",
              "    <tr>\n",
              "      <th>streamingtv</th>\n",
              "      <th></th>\n",
              "      <th></th>\n",
              "      <th></th>\n",
              "      <th></th>\n",
              "    </tr>\n",
              "  </thead>\n",
              "  <tbody>\n",
              "    <tr>\n",
              "      <th>no</th>\n",
              "      <td>0.342832</td>\n",
              "      <td>2246</td>\n",
              "      <td>0.072864</td>\n",
              "      <td>1.269897</td>\n",
              "    </tr>\n",
              "    <tr>\n",
              "      <th>no_internet_service</th>\n",
              "      <td>0.077805</td>\n",
              "      <td>1221</td>\n",
              "      <td>-0.192163</td>\n",
              "      <td>0.288201</td>\n",
              "    </tr>\n",
              "    <tr>\n",
              "      <th>yes</th>\n",
              "      <td>0.302723</td>\n",
              "      <td>2167</td>\n",
              "      <td>0.032755</td>\n",
              "      <td>1.121328</td>\n",
              "    </tr>\n",
              "  </tbody>\n",
              "</table>\n",
              "</div>"
            ],
            "text/plain": [
              "                         mean  count      diff      risk\n",
              "streamingtv                                             \n",
              "no                   0.342832   2246  0.072864  1.269897\n",
              "no_internet_service  0.077805   1221 -0.192163  0.288201\n",
              "yes                  0.302723   2167  0.032755  1.121328"
            ]
          },
          "metadata": {}
        },
        {
          "output_type": "stream",
          "name": "stdout",
          "text": [
            "\n",
            "\n",
            "streamingmovies\n"
          ]
        },
        {
          "output_type": "display_data",
          "data": {
            "text/html": [
              "<div>\n",
              "<style scoped>\n",
              "    .dataframe tbody tr th:only-of-type {\n",
              "        vertical-align: middle;\n",
              "    }\n",
              "\n",
              "    .dataframe tbody tr th {\n",
              "        vertical-align: top;\n",
              "    }\n",
              "\n",
              "    .dataframe thead th {\n",
              "        text-align: right;\n",
              "    }\n",
              "</style>\n",
              "<table border=\"1\" class=\"dataframe\">\n",
              "  <thead>\n",
              "    <tr style=\"text-align: right;\">\n",
              "      <th></th>\n",
              "      <th>mean</th>\n",
              "      <th>count</th>\n",
              "      <th>diff</th>\n",
              "      <th>risk</th>\n",
              "    </tr>\n",
              "    <tr>\n",
              "      <th>streamingmovies</th>\n",
              "      <th></th>\n",
              "      <th></th>\n",
              "      <th></th>\n",
              "      <th></th>\n",
              "    </tr>\n",
              "  </thead>\n",
              "  <tbody>\n",
              "    <tr>\n",
              "      <th>no</th>\n",
              "      <td>0.338906</td>\n",
              "      <td>2213</td>\n",
              "      <td>0.068938</td>\n",
              "      <td>1.255358</td>\n",
              "    </tr>\n",
              "    <tr>\n",
              "      <th>no_internet_service</th>\n",
              "      <td>0.077805</td>\n",
              "      <td>1221</td>\n",
              "      <td>-0.192163</td>\n",
              "      <td>0.288201</td>\n",
              "    </tr>\n",
              "    <tr>\n",
              "      <th>yes</th>\n",
              "      <td>0.307273</td>\n",
              "      <td>2200</td>\n",
              "      <td>0.037305</td>\n",
              "      <td>1.138182</td>\n",
              "    </tr>\n",
              "  </tbody>\n",
              "</table>\n",
              "</div>"
            ],
            "text/plain": [
              "                         mean  count      diff      risk\n",
              "streamingmovies                                         \n",
              "no                   0.338906   2213  0.068938  1.255358\n",
              "no_internet_service  0.077805   1221 -0.192163  0.288201\n",
              "yes                  0.307273   2200  0.037305  1.138182"
            ]
          },
          "metadata": {}
        },
        {
          "output_type": "stream",
          "name": "stdout",
          "text": [
            "\n",
            "\n",
            "contract\n"
          ]
        },
        {
          "output_type": "display_data",
          "data": {
            "text/html": [
              "<div>\n",
              "<style scoped>\n",
              "    .dataframe tbody tr th:only-of-type {\n",
              "        vertical-align: middle;\n",
              "    }\n",
              "\n",
              "    .dataframe tbody tr th {\n",
              "        vertical-align: top;\n",
              "    }\n",
              "\n",
              "    .dataframe thead th {\n",
              "        text-align: right;\n",
              "    }\n",
              "</style>\n",
              "<table border=\"1\" class=\"dataframe\">\n",
              "  <thead>\n",
              "    <tr style=\"text-align: right;\">\n",
              "      <th></th>\n",
              "      <th>mean</th>\n",
              "      <th>count</th>\n",
              "      <th>diff</th>\n",
              "      <th>risk</th>\n",
              "    </tr>\n",
              "    <tr>\n",
              "      <th>contract</th>\n",
              "      <th></th>\n",
              "      <th></th>\n",
              "      <th></th>\n",
              "      <th></th>\n",
              "    </tr>\n",
              "  </thead>\n",
              "  <tbody>\n",
              "    <tr>\n",
              "      <th>month-to-month</th>\n",
              "      <td>0.431701</td>\n",
              "      <td>3104</td>\n",
              "      <td>0.161733</td>\n",
              "      <td>1.599082</td>\n",
              "    </tr>\n",
              "    <tr>\n",
              "      <th>one_year</th>\n",
              "      <td>0.120573</td>\n",
              "      <td>1186</td>\n",
              "      <td>-0.149395</td>\n",
              "      <td>0.446621</td>\n",
              "    </tr>\n",
              "    <tr>\n",
              "      <th>two_year</th>\n",
              "      <td>0.028274</td>\n",
              "      <td>1344</td>\n",
              "      <td>-0.241694</td>\n",
              "      <td>0.104730</td>\n",
              "    </tr>\n",
              "  </tbody>\n",
              "</table>\n",
              "</div>"
            ],
            "text/plain": [
              "                    mean  count      diff      risk\n",
              "contract                                           \n",
              "month-to-month  0.431701   3104  0.161733  1.599082\n",
              "one_year        0.120573   1186 -0.149395  0.446621\n",
              "two_year        0.028274   1344 -0.241694  0.104730"
            ]
          },
          "metadata": {}
        },
        {
          "output_type": "stream",
          "name": "stdout",
          "text": [
            "\n",
            "\n",
            "paperlessbilling\n"
          ]
        },
        {
          "output_type": "display_data",
          "data": {
            "text/html": [
              "<div>\n",
              "<style scoped>\n",
              "    .dataframe tbody tr th:only-of-type {\n",
              "        vertical-align: middle;\n",
              "    }\n",
              "\n",
              "    .dataframe tbody tr th {\n",
              "        vertical-align: top;\n",
              "    }\n",
              "\n",
              "    .dataframe thead th {\n",
              "        text-align: right;\n",
              "    }\n",
              "</style>\n",
              "<table border=\"1\" class=\"dataframe\">\n",
              "  <thead>\n",
              "    <tr style=\"text-align: right;\">\n",
              "      <th></th>\n",
              "      <th>mean</th>\n",
              "      <th>count</th>\n",
              "      <th>diff</th>\n",
              "      <th>risk</th>\n",
              "    </tr>\n",
              "    <tr>\n",
              "      <th>paperlessbilling</th>\n",
              "      <th></th>\n",
              "      <th></th>\n",
              "      <th></th>\n",
              "      <th></th>\n",
              "    </tr>\n",
              "  </thead>\n",
              "  <tbody>\n",
              "    <tr>\n",
              "      <th>no</th>\n",
              "      <td>0.172071</td>\n",
              "      <td>2313</td>\n",
              "      <td>-0.097897</td>\n",
              "      <td>0.637375</td>\n",
              "    </tr>\n",
              "    <tr>\n",
              "      <th>yes</th>\n",
              "      <td>0.338151</td>\n",
              "      <td>3321</td>\n",
              "      <td>0.068183</td>\n",
              "      <td>1.252560</td>\n",
              "    </tr>\n",
              "  </tbody>\n",
              "</table>\n",
              "</div>"
            ],
            "text/plain": [
              "                      mean  count      diff      risk\n",
              "paperlessbilling                                     \n",
              "no                0.172071   2313 -0.097897  0.637375\n",
              "yes               0.338151   3321  0.068183  1.252560"
            ]
          },
          "metadata": {}
        },
        {
          "output_type": "stream",
          "name": "stdout",
          "text": [
            "\n",
            "\n",
            "paymentmethod\n"
          ]
        },
        {
          "output_type": "display_data",
          "data": {
            "text/html": [
              "<div>\n",
              "<style scoped>\n",
              "    .dataframe tbody tr th:only-of-type {\n",
              "        vertical-align: middle;\n",
              "    }\n",
              "\n",
              "    .dataframe tbody tr th {\n",
              "        vertical-align: top;\n",
              "    }\n",
              "\n",
              "    .dataframe thead th {\n",
              "        text-align: right;\n",
              "    }\n",
              "</style>\n",
              "<table border=\"1\" class=\"dataframe\">\n",
              "  <thead>\n",
              "    <tr style=\"text-align: right;\">\n",
              "      <th></th>\n",
              "      <th>mean</th>\n",
              "      <th>count</th>\n",
              "      <th>diff</th>\n",
              "      <th>risk</th>\n",
              "    </tr>\n",
              "    <tr>\n",
              "      <th>paymentmethod</th>\n",
              "      <th></th>\n",
              "      <th></th>\n",
              "      <th></th>\n",
              "      <th></th>\n",
              "    </tr>\n",
              "  </thead>\n",
              "  <tbody>\n",
              "    <tr>\n",
              "      <th>bank_transfer_(automatic)</th>\n",
              "      <td>0.168171</td>\n",
              "      <td>1219</td>\n",
              "      <td>-0.101797</td>\n",
              "      <td>0.622928</td>\n",
              "    </tr>\n",
              "    <tr>\n",
              "      <th>credit_card_(automatic)</th>\n",
              "      <td>0.164339</td>\n",
              "      <td>1217</td>\n",
              "      <td>-0.105630</td>\n",
              "      <td>0.608733</td>\n",
              "    </tr>\n",
              "    <tr>\n",
              "      <th>electronic_check</th>\n",
              "      <td>0.455890</td>\n",
              "      <td>1893</td>\n",
              "      <td>0.185922</td>\n",
              "      <td>1.688682</td>\n",
              "    </tr>\n",
              "    <tr>\n",
              "      <th>mailed_check</th>\n",
              "      <td>0.193870</td>\n",
              "      <td>1305</td>\n",
              "      <td>-0.076098</td>\n",
              "      <td>0.718121</td>\n",
              "    </tr>\n",
              "  </tbody>\n",
              "</table>\n",
              "</div>"
            ],
            "text/plain": [
              "                               mean  count      diff      risk\n",
              "paymentmethod                                                 \n",
              "bank_transfer_(automatic)  0.168171   1219 -0.101797  0.622928\n",
              "credit_card_(automatic)    0.164339   1217 -0.105630  0.608733\n",
              "electronic_check           0.455890   1893  0.185922  1.688682\n",
              "mailed_check               0.193870   1305 -0.076098  0.718121"
            ]
          },
          "metadata": {}
        },
        {
          "output_type": "stream",
          "name": "stdout",
          "text": [
            "\n",
            "\n"
          ]
        }
      ]
    },
    {
      "cell_type": "markdown",
      "metadata": {
        "id": "IH5ffdTbHUe0"
      },
      "source": [
        "**Mutual information**"
      ]
    },
    {
      "cell_type": "code",
      "metadata": {
        "id": "g7QzEDppHRyF"
      },
      "source": [
        "from sklearn.metrics import mutual_info_score"
      ],
      "execution_count": null,
      "outputs": []
    },
    {
      "cell_type": "code",
      "metadata": {
        "colab": {
          "base_uri": "https://localhost:8080/"
        },
        "id": "Kg_tR0YbHuzn",
        "outputId": "8271d808-36bd-467f-bf54-bfa52a605d57"
      },
      "source": [
        "mutual_info_score(df_full_train.churn, df_full_train.contract)"
      ],
      "execution_count": null,
      "outputs": [
        {
          "output_type": "execute_result",
          "data": {
            "text/plain": [
              "0.0983203874041556"
            ]
          },
          "metadata": {},
          "execution_count": 37
        }
      ]
    },
    {
      "cell_type": "code",
      "metadata": {
        "colab": {
          "base_uri": "https://localhost:8080/"
        },
        "id": "w57rzUrmIC_D",
        "outputId": "f49c69c9-9707-41aa-b522-cd75e2fcad0a"
      },
      "source": [
        "mutual_info_score(df_full_train.gender, df_full_train.churn)"
      ],
      "execution_count": null,
      "outputs": [
        {
          "output_type": "execute_result",
          "data": {
            "text/plain": [
              "0.0001174846211139946"
            ]
          },
          "metadata": {},
          "execution_count": 38
        }
      ]
    },
    {
      "cell_type": "code",
      "metadata": {
        "colab": {
          "base_uri": "https://localhost:8080/"
        },
        "id": "xnv6eiOpIs3f",
        "outputId": "857cc524-f94f-4abf-d5a1-331421e0529a"
      },
      "source": [
        "mutual_info_score(df_full_train.contract, df_full_train.churn)"
      ],
      "execution_count": null,
      "outputs": [
        {
          "output_type": "execute_result",
          "data": {
            "text/plain": [
              "0.0983203874041556"
            ]
          },
          "metadata": {},
          "execution_count": 39
        }
      ]
    },
    {
      "cell_type": "code",
      "metadata": {
        "id": "AxR02AfDKZgo"
      },
      "source": [
        "def mutual_info_churn_score(series):\n",
        "    return mutual_info_score(series,df_full_train.churn)"
      ],
      "execution_count": null,
      "outputs": []
    },
    {
      "cell_type": "code",
      "metadata": {
        "colab": {
          "base_uri": "https://localhost:8080/"
        },
        "id": "cJ651RhKLDgJ",
        "outputId": "5d6ba2fb-39a1-450e-d7fa-aef0482d8cba"
      },
      "source": [
        "mi = df_full_train[categorical].apply(mutual_info_churn_score)\n",
        "mi.sort_values(ascending=False)"
      ],
      "execution_count": null,
      "outputs": [
        {
          "output_type": "execute_result",
          "data": {
            "text/plain": [
              "contract            0.098320\n",
              "onlinesecurity      0.063085\n",
              "techsupport         0.061032\n",
              "internetservice     0.055868\n",
              "onlinebackup        0.046923\n",
              "deviceprotection    0.043453\n",
              "paymentmethod       0.043210\n",
              "streamingtv         0.031853\n",
              "streamingmovies     0.031581\n",
              "paperlessbilling    0.017589\n",
              "dependents          0.012346\n",
              "partner             0.009968\n",
              "seniorcitizen       0.009410\n",
              "multiplelines       0.000857\n",
              "phoneservice        0.000229\n",
              "gender              0.000117\n",
              "dtype: float64"
            ]
          },
          "metadata": {},
          "execution_count": 41
        }
      ]
    },
    {
      "cell_type": "markdown",
      "metadata": {
        "id": "mtWgedyNM_sH"
      },
      "source": [
        "**Correlation**"
      ]
    },
    {
      "cell_type": "code",
      "metadata": {
        "colab": {
          "base_uri": "https://localhost:8080/"
        },
        "id": "EmN8Hy5JLc6d",
        "outputId": "ba3cd8a9-b45e-4eba-e2af-e51b45410aa5"
      },
      "source": [
        "df_full_train.tenure.max()"
      ],
      "execution_count": null,
      "outputs": [
        {
          "output_type": "execute_result",
          "data": {
            "text/plain": [
              "72"
            ]
          },
          "metadata": {},
          "execution_count": 42
        }
      ]
    },
    {
      "cell_type": "code",
      "metadata": {
        "colab": {
          "base_uri": "https://localhost:8080/"
        },
        "id": "6QfSSB-dNJvb",
        "outputId": "b96ba7b4-ba77-4165-95bf-cfd3da97c7c7"
      },
      "source": [
        "df_full_train[numerical].corrwith(df_full_train.churn).abs()"
      ],
      "execution_count": null,
      "outputs": [
        {
          "output_type": "execute_result",
          "data": {
            "text/plain": [
              "tenure            0.351885\n",
              "monthlycharges    0.196805\n",
              "dtype: float64"
            ]
          },
          "metadata": {},
          "execution_count": 43
        }
      ]
    },
    {
      "cell_type": "code",
      "metadata": {
        "colab": {
          "base_uri": "https://localhost:8080/"
        },
        "id": "4ujznIYSNj77",
        "outputId": "2a3275af-3eb4-4f15-a13b-0d9cc8c6ca35"
      },
      "source": [
        "df_full_train[df_full_train.tenure <= 2].churn.mean()"
      ],
      "execution_count": null,
      "outputs": [
        {
          "output_type": "execute_result",
          "data": {
            "text/plain": [
              "0.5953420669577875"
            ]
          },
          "metadata": {},
          "execution_count": 44
        }
      ]
    },
    {
      "cell_type": "code",
      "metadata": {
        "colab": {
          "base_uri": "https://localhost:8080/"
        },
        "id": "FZB1EkcVOx91",
        "outputId": "3dd39192-7916-46f0-af64-300f837aa589"
      },
      "source": [
        "df_full_train[(df_full_train.tenure > 2) & (df_full_train.tenure <= 12)].churn.mean()\n"
      ],
      "execution_count": null,
      "outputs": [
        {
          "output_type": "execute_result",
          "data": {
            "text/plain": [
              "0.3994413407821229"
            ]
          },
          "metadata": {},
          "execution_count": 45
        }
      ]
    },
    {
      "cell_type": "code",
      "metadata": {
        "colab": {
          "base_uri": "https://localhost:8080/"
        },
        "id": "LGaLHrjPPyHS",
        "outputId": "ce5c3c28-3be2-40c0-8c4b-79a6d427ce6f"
      },
      "source": [
        "df_full_train[df_full_train.tenure > 12].churn.mean()"
      ],
      "execution_count": null,
      "outputs": [
        {
          "output_type": "execute_result",
          "data": {
            "text/plain": [
              "0.17634908339788277"
            ]
          },
          "metadata": {},
          "execution_count": 46
        }
      ]
    },
    {
      "cell_type": "code",
      "metadata": {
        "colab": {
          "base_uri": "https://localhost:8080/"
        },
        "id": "3lmf1zV_P5fz",
        "outputId": "3e587bcf-0dfd-4242-f9f0-84daddc8f653"
      },
      "source": [
        "df_full_train[df_full_train.monthlycharges <= 20].churn.mean()"
      ],
      "execution_count": null,
      "outputs": [
        {
          "output_type": "execute_result",
          "data": {
            "text/plain": [
              "0.08795411089866156"
            ]
          },
          "metadata": {},
          "execution_count": 47
        }
      ]
    },
    {
      "cell_type": "code",
      "metadata": {
        "colab": {
          "base_uri": "https://localhost:8080/"
        },
        "id": "a9B2mm-VP-3a",
        "outputId": "3ffb6071-05d2-4d22-a563-a491240d2a1f"
      },
      "source": [
        "df_full_train[(df_full_train.monthlycharges > 20) & (df_full_train.monthlycharges  <= 50)].churn.mean()\n"
      ],
      "execution_count": null,
      "outputs": [
        {
          "output_type": "execute_result",
          "data": {
            "text/plain": [
              "0.18340943683409436"
            ]
          },
          "metadata": {},
          "execution_count": 51
        }
      ]
    },
    {
      "cell_type": "code",
      "metadata": {
        "colab": {
          "base_uri": "https://localhost:8080/"
        },
        "id": "uKwMZTqsRQQc",
        "outputId": "19e29ad7-71c8-49ff-aba1-025641c05746"
      },
      "source": [
        "df_full_train[df_full_train.monthlycharges > 50].churn.mean()"
      ],
      "execution_count": null,
      "outputs": [
        {
          "output_type": "execute_result",
          "data": {
            "text/plain": [
              "0.32499341585462205"
            ]
          },
          "metadata": {},
          "execution_count": 52
        }
      ]
    },
    {
      "cell_type": "markdown",
      "metadata": {
        "id": "S02bUdlwRXzp"
      },
      "source": [
        "**One-hot encoding** "
      ]
    },
    {
      "cell_type": "code",
      "metadata": {
        "id": "atG69vAcRUSi"
      },
      "source": [
        "from sklearn.feature_extraction import DictVectorizer"
      ],
      "execution_count": null,
      "outputs": []
    },
    {
      "cell_type": "code",
      "metadata": {
        "id": "mXcvD84fRoQI"
      },
      "source": [
        "dv = DictVectorizer(sparse=False)\n",
        "\n",
        "train_dict = df_train[categorical + numerical].to_dict(orient= 'records')\n",
        "X_train = dv.fit_transform(train_dict)\n",
        "\n",
        "val_dict = df_val[categorical + numerical].to_dict(orient='records')\n",
        "X_val = dv.transform(val_dict)"
      ],
      "execution_count": null,
      "outputs": []
    },
    {
      "cell_type": "markdown",
      "metadata": {
        "id": "H9gDKlNASoOO"
      },
      "source": [
        "**Logistic regression**"
      ]
    },
    {
      "cell_type": "code",
      "metadata": {
        "colab": {
          "base_uri": "https://localhost:8080/"
        },
        "id": "39ojddsySHTb",
        "outputId": "8c8f4c29-fc1f-47bd-c5cd-80d30fbb99b9"
      },
      "source": [
        "def sigmoid(z):\n",
        "    return 1 / (1 + np.exp(-z))\n",
        "\n",
        "z = np.linspace(-7, 7, 51)\n",
        "\n",
        "sigmoid(10000)    "
      ],
      "execution_count": null,
      "outputs": [
        {
          "output_type": "execute_result",
          "data": {
            "text/plain": [
              "1.0"
            ]
          },
          "metadata": {},
          "execution_count": 55
        }
      ]
    },
    {
      "cell_type": "code",
      "metadata": {
        "colab": {
          "base_uri": "https://localhost:8080/",
          "height": 282
        },
        "id": "G_M0u4K5TMQr",
        "outputId": "8c2031e4-8ce6-4075-d925-c9254ac48062"
      },
      "source": [
        "plt.plot(z, sigmoid(z))"
      ],
      "execution_count": null,
      "outputs": [
        {
          "output_type": "execute_result",
          "data": {
            "text/plain": [
              "[<matplotlib.lines.Line2D at 0x7f024abbe290>]"
            ]
          },
          "metadata": {},
          "execution_count": 58
        },
        {
          "output_type": "display_data",
          "data": {
            "image/png": "[encoded data removed]",
            "text/plain": [
              "<Figure size 432x288 with 1 Axes>"
            ]
          },
          "metadata": {
            "needs_background": "light"
          }
        }
      ]
    },
    {
      "cell_type": "code",
      "metadata": {
        "id": "oX3YfXUOTSza"
      },
      "source": [
        "def linear_regression(xi):\n",
        "  result = w0\n",
        "\n",
        "  for j in range(len(w)):\n",
        "    result = result + xi[j] * w[j]\n",
        "\n",
        "    return result"
      ],
      "execution_count": null,
      "outputs": []
    },
    {
      "cell_type": "code",
      "metadata": {
        "id": "2L0hi3j1UMrV"
      },
      "source": [
        "def logistic_regression(xi):\n",
        "  score = w0\n",
        "\n",
        "  for j in range(len(w)):\n",
        "    score = score + xi[j] * w[j]\n",
        "\n",
        "    result = sigmoid(score)\n",
        "    return result"
      ],
      "execution_count": null,
      "outputs": []
    },
    {
      "cell_type": "markdown",
      "metadata": {
        "id": "SGg2GxPfVYS8"
      },
      "source": [
        "**Training logistic regression with Scikit-Learn**"
      ]
    },
    {
      "cell_type": "code",
      "metadata": {
        "id": "7waeZGFpUwap"
      },
      "source": [
        "from sklearn.linear_model import LogisticRegression"
      ],
      "execution_count": null,
      "outputs": []
    },
    {
      "cell_type": "code",
      "metadata": {
        "colab": {
          "base_uri": "https://localhost:8080/"
        },
        "id": "GkNeOESvVcqF",
        "outputId": "7ba6fbd5-719e-400a-d5ed-e5ff0d5565b8"
      },
      "source": [
        "model = LogisticRegression(solver='lbfgs')\n",
        "# solver='lbfgs' is the default solver in newer version of sklearn\n",
        "# for older versions, you need to specify it explicitly\n",
        "model.fit(X_train, y_train)"
      ],
      "execution_count": null,
      "outputs": [
        {
          "output_type": "stream",
          "name": "stderr",
          "text": [
            "/usr/local/lib/python3.7/dist-packages/sklearn/linear_model/_logistic.py:818: ConvergenceWarning: lbfgs failed to converge (status=1):\n",
            "STOP: TOTAL NO. of ITERATIONS REACHED LIMIT.\n",
            "\n",
            "Increase the number of iterations (max_iter) or scale the data as shown in:\n",
            "    https://scikit-learn.org/stable/modules/preprocessing.html\n",
            "Please also refer to the documentation for alternative solver options:\n",
            "    https://scikit-learn.org/stable/modules/linear_model.html#logistic-regression\n",
            "  extra_warning_msg=_LOGISTIC_SOLVER_CONVERGENCE_MSG,\n"
          ]
        },
        {
          "output_type": "execute_result",
          "data": {
            "text/plain": [
              "LogisticRegression()"
            ]
          },
          "metadata": {},
          "execution_count": 61
        }
      ]
    },
    {
      "cell_type": "code",
      "metadata": {
        "colab": {
          "base_uri": "https://localhost:8080/"
        },
        "id": "j0wUqXPVWZCL",
        "outputId": "c7d503b9-865f-4d98-c974-456a0e160d9c"
      },
      "source": [
        "model.intercept_[0]"
      ],
      "execution_count": null,
      "outputs": [
        {
          "output_type": "execute_result",
          "data": {
            "text/plain": [
              "-0.1900908219977011"
            ]
          },
          "metadata": {},
          "execution_count": 62
        }
      ]
    },
    {
      "cell_type": "code",
      "metadata": {
        "colab": {
          "base_uri": "https://localhost:8080/"
        },
        "id": "gsFtSIVWV-Au",
        "outputId": "934740d0-5ee4-4c09-f9fa-8449ea5195ac"
      },
      "source": [
        "model.coef_[0]"
      ],
      "execution_count": null,
      "outputs": [
        {
          "output_type": "execute_result",
          "data": {
            "text/plain": [
              "array([ 0.90448488,  0.23114616, -1.30933796, ...,  0.03605706,\n",
              "       -0.0545611 , -0.08516941])"
            ]
          },
          "metadata": {},
          "execution_count": 63
        }
      ]
    },
    {
      "cell_type": "code",
      "metadata": {
        "id": "0afv0MMxWeBn"
      },
      "source": [
        "y_pred = model.predict_proba(X_val)[:,1]"
      ],
      "execution_count": null,
      "outputs": []
    },
    {
      "cell_type": "code",
      "metadata": {
        "id": "aAfNCT0gXRVN"
      },
      "source": [
        "churn_decision = (y_pred >= 0.5)"
      ],
      "execution_count": null,
      "outputs": []
    },
    {
      "cell_type": "code",
      "metadata": {
        "colab": {
          "base_uri": "https://localhost:8080/"
        },
        "id": "g3ggNq1c2Vvg",
        "outputId": "765bd226-50cf-4c19-a7f9-a83d4c08637f"
      },
      "source": [
        "churn_decision.astype(int)"
      ],
      "execution_count": null,
      "outputs": [
        {
          "output_type": "execute_result",
          "data": {
            "text/plain": [
              "array([0, 0, 0, ..., 0, 1, 1])"
            ]
          },
          "metadata": {},
          "execution_count": 77
        }
      ]
    },
    {
      "cell_type": "code",
      "metadata": {
        "colab": {
          "base_uri": "https://localhost:8080/"
        },
        "id": "Zi-WloBB2RXW",
        "outputId": "cf67116d-d6c4-4101-af0c-98262e44c0d5"
      },
      "source": [
        "y_val"
      ],
      "execution_count": null,
      "outputs": [
        {
          "output_type": "execute_result",
          "data": {
            "text/plain": [
              "array([0, 0, 1, ..., 1, 0, 1])"
            ]
          },
          "metadata": {},
          "execution_count": 73
        }
      ]
    },
    {
      "cell_type": "code",
      "metadata": {
        "colab": {
          "base_uri": "https://localhost:8080/",
          "height": 200
        },
        "id": "pwi38IM9Xejr",
        "outputId": "c8527223-96f7-4907-908d-ff4ca6f10aff"
      },
      "source": [
        "(y_val == churn_decision).mean()"
      ],
      "execution_count": null,
      "outputs": [
        {
          "output_type": "stream",
          "name": "stderr",
          "text": [
            "/usr/local/lib/python3.7/dist-packages/ipykernel_launcher.py:1: DeprecationWarning: elementwise comparison failed; this will raise an error in the future.\n",
            "  \"\"\"Entry point for launching an IPython kernel.\n"
          ]
        },
        {
          "output_type": "error",
          "ename": "AttributeError",
          "evalue": "ignored",
          "traceback": [
            "\u001b[0;31m---------------------------------------------------------------------------\u001b[0m",
            "\u001b[0;31mAttributeError\u001b[0m                            Traceback (most recent call last)",
            "\u001b[0;32m<ipython-input-80-9b053c3c2aed>\u001b[0m in \u001b[0;36m<module>\u001b[0;34m()\u001b[0m\n\u001b[0;32m----> 1\u001b[0;31m \u001b[0;34m(\u001b[0m\u001b[0my_val\u001b[0m \u001b[0;34m==\u001b[0m \u001b[0mchurn_decision\u001b[0m\u001b[0;34m)\u001b[0m\u001b[0;34m.\u001b[0m\u001b[0mmean\u001b[0m\u001b[0;34m(\u001b[0m\u001b[0;34m)\u001b[0m\u001b[0;34m\u001b[0m\u001b[0;34m\u001b[0m\u001b[0m\n\u001b[0m",
            "\u001b[0;31mAttributeError\u001b[0m: 'bool' object has no attribute 'mean'"
          ]
        }
      ]
    },
    {
      "cell_type": "code",
      "metadata": {
        "colab": {
          "base_uri": "https://localhost:8080/",
          "height": 345
        },
        "id": "hYRKHzwrxEY1",
        "outputId": "f74a27e7-ed1b-4b91-a206-8c63ac7db96b"
      },
      "source": [
        "df_pred = pd.DataFrame()\n",
        "df_pred['probability'] = y_pred\n",
        "df_pred['prediction'] = churn_decision.astype(int)\n",
        "df_pred['actual'] = y_val"
      ],
      "execution_count": null,
      "outputs": [
        {
          "output_type": "error",
          "ename": "ValueError",
          "evalue": "ignored",
          "traceback": [
            "\u001b[0;31m---------------------------------------------------------------------------\u001b[0m",
            "\u001b[0;31mValueError\u001b[0m                                Traceback (most recent call last)",
            "\u001b[0;32m<ipython-input-81-cbf2ab52be8b>\u001b[0m in \u001b[0;36m<module>\u001b[0;34m()\u001b[0m\n\u001b[1;32m      2\u001b[0m \u001b[0mdf_pred\u001b[0m\u001b[0;34m[\u001b[0m\u001b[0;34m'probability'\u001b[0m\u001b[0;34m]\u001b[0m \u001b[0;34m=\u001b[0m \u001b[0my_pred\u001b[0m\u001b[0;34m\u001b[0m\u001b[0;34m\u001b[0m\u001b[0m\n\u001b[1;32m      3\u001b[0m \u001b[0mdf_pred\u001b[0m\u001b[0;34m[\u001b[0m\u001b[0;34m'prediction'\u001b[0m\u001b[0;34m]\u001b[0m \u001b[0;34m=\u001b[0m \u001b[0mchurn_decision\u001b[0m\u001b[0;34m.\u001b[0m\u001b[0mastype\u001b[0m\u001b[0;34m(\u001b[0m\u001b[0mint\u001b[0m\u001b[0;34m)\u001b[0m\u001b[0;34m\u001b[0m\u001b[0;34m\u001b[0m\u001b[0m\n\u001b[0;32m----> 4\u001b[0;31m \u001b[0mdf_pred\u001b[0m\u001b[0;34m[\u001b[0m\u001b[0;34m'actual'\u001b[0m\u001b[0;34m]\u001b[0m \u001b[0;34m=\u001b[0m \u001b[0my_val\u001b[0m\u001b[0;34m\u001b[0m\u001b[0;34m\u001b[0m\u001b[0m\n\u001b[0m",
            "\u001b[0;32m/usr/local/lib/python3.7/dist-packages/pandas/core/frame.py\u001b[0m in \u001b[0;36m__setitem__\u001b[0;34m(self, key, value)\u001b[0m\n\u001b[1;32m   3042\u001b[0m         \u001b[0;32melse\u001b[0m\u001b[0;34m:\u001b[0m\u001b[0;34m\u001b[0m\u001b[0;34m\u001b[0m\u001b[0m\n\u001b[1;32m   3043\u001b[0m             \u001b[0;31m# set column\u001b[0m\u001b[0;34m\u001b[0m\u001b[0;34m\u001b[0m\u001b[0;34m\u001b[0m\u001b[0m\n\u001b[0;32m-> 3044\u001b[0;31m             \u001b[0mself\u001b[0m\u001b[0;34m.\u001b[0m\u001b[0m_set_item\u001b[0m\u001b[0;34m(\u001b[0m\u001b[0mkey\u001b[0m\u001b[0;34m,\u001b[0m \u001b[0mvalue\u001b[0m\u001b[0;34m)\u001b[0m\u001b[0;34m\u001b[0m\u001b[0;34m\u001b[0m\u001b[0m\n\u001b[0m\u001b[1;32m   3045\u001b[0m \u001b[0;34m\u001b[0m\u001b[0m\n\u001b[1;32m   3046\u001b[0m     \u001b[0;32mdef\u001b[0m \u001b[0m_setitem_slice\u001b[0m\u001b[0;34m(\u001b[0m\u001b[0mself\u001b[0m\u001b[0;34m,\u001b[0m \u001b[0mkey\u001b[0m\u001b[0;34m:\u001b[0m \u001b[0mslice\u001b[0m\u001b[0;34m,\u001b[0m \u001b[0mvalue\u001b[0m\u001b[0;34m)\u001b[0m\u001b[0;34m:\u001b[0m\u001b[0;34m\u001b[0m\u001b[0;34m\u001b[0m\u001b[0m\n",
            "\u001b[0;32m/usr/local/lib/python3.7/dist-packages/pandas/core/frame.py\u001b[0m in \u001b[0;36m_set_item\u001b[0;34m(self, key, value)\u001b[0m\n\u001b[1;32m   3118\u001b[0m         \"\"\"\n\u001b[1;32m   3119\u001b[0m         \u001b[0mself\u001b[0m\u001b[0;34m.\u001b[0m\u001b[0m_ensure_valid_index\u001b[0m\u001b[0;34m(\u001b[0m\u001b[0mvalue\u001b[0m\u001b[0;34m)\u001b[0m\u001b[0;34m\u001b[0m\u001b[0;34m\u001b[0m\u001b[0m\n\u001b[0;32m-> 3120\u001b[0;31m         \u001b[0mvalue\u001b[0m \u001b[0;34m=\u001b[0m \u001b[0mself\u001b[0m\u001b[0;34m.\u001b[0m\u001b[0m_sanitize_column\u001b[0m\u001b[0;34m(\u001b[0m\u001b[0mkey\u001b[0m\u001b[0;34m,\u001b[0m \u001b[0mvalue\u001b[0m\u001b[0;34m)\u001b[0m\u001b[0;34m\u001b[0m\u001b[0;34m\u001b[0m\u001b[0m\n\u001b[0m\u001b[1;32m   3121\u001b[0m         \u001b[0mNDFrame\u001b[0m\u001b[0;34m.\u001b[0m\u001b[0m_set_item\u001b[0m\u001b[0;34m(\u001b[0m\u001b[0mself\u001b[0m\u001b[0;34m,\u001b[0m \u001b[0mkey\u001b[0m\u001b[0;34m,\u001b[0m \u001b[0mvalue\u001b[0m\u001b[0;34m)\u001b[0m\u001b[0;34m\u001b[0m\u001b[0;34m\u001b[0m\u001b[0m\n\u001b[1;32m   3122\u001b[0m \u001b[0;34m\u001b[0m\u001b[0m\n",
            "\u001b[0;32m/usr/local/lib/python3.7/dist-packages/pandas/core/frame.py\u001b[0m in \u001b[0;36m_sanitize_column\u001b[0;34m(self, key, value, broadcast)\u001b[0m\n\u001b[1;32m   3766\u001b[0m \u001b[0;34m\u001b[0m\u001b[0m\n\u001b[1;32m   3767\u001b[0m             \u001b[0;31m# turn me into an ndarray\u001b[0m\u001b[0;34m\u001b[0m\u001b[0;34m\u001b[0m\u001b[0;34m\u001b[0m\u001b[0m\n\u001b[0;32m-> 3768\u001b[0;31m             \u001b[0mvalue\u001b[0m \u001b[0;34m=\u001b[0m \u001b[0msanitize_index\u001b[0m\u001b[0;34m(\u001b[0m\u001b[0mvalue\u001b[0m\u001b[0;34m,\u001b[0m \u001b[0mself\u001b[0m\u001b[0;34m.\u001b[0m\u001b[0mindex\u001b[0m\u001b[0;34m)\u001b[0m\u001b[0;34m\u001b[0m\u001b[0;34m\u001b[0m\u001b[0m\n\u001b[0m\u001b[1;32m   3769\u001b[0m             \u001b[0;32mif\u001b[0m \u001b[0;32mnot\u001b[0m \u001b[0misinstance\u001b[0m\u001b[0;34m(\u001b[0m\u001b[0mvalue\u001b[0m\u001b[0;34m,\u001b[0m \u001b[0;34m(\u001b[0m\u001b[0mnp\u001b[0m\u001b[0;34m.\u001b[0m\u001b[0mndarray\u001b[0m\u001b[0;34m,\u001b[0m \u001b[0mIndex\u001b[0m\u001b[0;34m)\u001b[0m\u001b[0;34m)\u001b[0m\u001b[0;34m:\u001b[0m\u001b[0;34m\u001b[0m\u001b[0;34m\u001b[0m\u001b[0m\n\u001b[1;32m   3770\u001b[0m                 \u001b[0;32mif\u001b[0m \u001b[0misinstance\u001b[0m\u001b[0;34m(\u001b[0m\u001b[0mvalue\u001b[0m\u001b[0;34m,\u001b[0m \u001b[0mlist\u001b[0m\u001b[0;34m)\u001b[0m \u001b[0;32mand\u001b[0m \u001b[0mlen\u001b[0m\u001b[0;34m(\u001b[0m\u001b[0mvalue\u001b[0m\u001b[0;34m)\u001b[0m \u001b[0;34m>\u001b[0m \u001b[0;36m0\u001b[0m\u001b[0;34m:\u001b[0m\u001b[0;34m\u001b[0m\u001b[0;34m\u001b[0m\u001b[0m\n",
            "\u001b[0;32m/usr/local/lib/python3.7/dist-packages/pandas/core/internals/construction.py\u001b[0m in \u001b[0;36msanitize_index\u001b[0;34m(data, index)\u001b[0m\n\u001b[1;32m    746\u001b[0m     \u001b[0;32mif\u001b[0m \u001b[0mlen\u001b[0m\u001b[0;34m(\u001b[0m\u001b[0mdata\u001b[0m\u001b[0;34m)\u001b[0m \u001b[0;34m!=\u001b[0m \u001b[0mlen\u001b[0m\u001b[0;34m(\u001b[0m\u001b[0mindex\u001b[0m\u001b[0;34m)\u001b[0m\u001b[0;34m:\u001b[0m\u001b[0;34m\u001b[0m\u001b[0;34m\u001b[0m\u001b[0m\n\u001b[1;32m    747\u001b[0m         raise ValueError(\n\u001b[0;32m--> 748\u001b[0;31m             \u001b[0;34m\"Length of values \"\u001b[0m\u001b[0;34m\u001b[0m\u001b[0;34m\u001b[0m\u001b[0m\n\u001b[0m\u001b[1;32m    749\u001b[0m             \u001b[0;34mf\"({len(data)}) \"\u001b[0m\u001b[0;34m\u001b[0m\u001b[0;34m\u001b[0m\u001b[0m\n\u001b[1;32m    750\u001b[0m             \u001b[0;34m\"does not match length of index \"\u001b[0m\u001b[0;34m\u001b[0m\u001b[0;34m\u001b[0m\u001b[0m\n",
            "\u001b[0;31mValueError\u001b[0m: Length of values (4225) does not match length of index (1409)"
          ]
        }
      ]
    },
    {
      "cell_type": "code",
      "metadata": {
        "id": "SRWLtu0KzOvv"
      },
      "source": [
        "df_pred['correct'] = df_pred.prediction == df_pred.actual"
      ],
      "execution_count": null,
      "outputs": []
    },
    {
      "cell_type": "code",
      "metadata": {
        "colab": {
          "base_uri": "https://localhost:8080/",
          "height": 287
        },
        "id": "wTfd0pKwzWyd",
        "outputId": "a63dff54-22a3-437c-90ff-710292f4f71c"
      },
      "source": [
        "df_pred.correct.mean()"
      ],
      "execution_count": null,
      "outputs": [
        {
          "output_type": "error",
          "ename": "AttributeError",
          "evalue": "ignored",
          "traceback": [
            "\u001b[0;31m---------------------------------------------------------------------------\u001b[0m",
            "\u001b[0;31mAttributeError\u001b[0m                            Traceback (most recent call last)",
            "\u001b[0;32m<ipython-input-82-14f71e0c8d02>\u001b[0m in \u001b[0;36m<module>\u001b[0;34m()\u001b[0m\n\u001b[0;32m----> 1\u001b[0;31m \u001b[0mdf_pred\u001b[0m\u001b[0;34m.\u001b[0m\u001b[0mcorrect\u001b[0m\u001b[0;34m.\u001b[0m\u001b[0mmean\u001b[0m\u001b[0;34m(\u001b[0m\u001b[0;34m)\u001b[0m\u001b[0;34m\u001b[0m\u001b[0;34m\u001b[0m\u001b[0m\n\u001b[0m",
            "\u001b[0;32m/usr/local/lib/python3.7/dist-packages/pandas/core/generic.py\u001b[0m in \u001b[0;36m__getattr__\u001b[0;34m(self, name)\u001b[0m\n\u001b[1;32m   5139\u001b[0m             \u001b[0;32mif\u001b[0m \u001b[0mself\u001b[0m\u001b[0;34m.\u001b[0m\u001b[0m_info_axis\u001b[0m\u001b[0;34m.\u001b[0m\u001b[0m_can_hold_identifiers_and_holds_name\u001b[0m\u001b[0;34m(\u001b[0m\u001b[0mname\u001b[0m\u001b[0;34m)\u001b[0m\u001b[0;34m:\u001b[0m\u001b[0;34m\u001b[0m\u001b[0;34m\u001b[0m\u001b[0m\n\u001b[1;32m   5140\u001b[0m                 \u001b[0;32mreturn\u001b[0m \u001b[0mself\u001b[0m\u001b[0;34m[\u001b[0m\u001b[0mname\u001b[0m\u001b[0;34m]\u001b[0m\u001b[0;34m\u001b[0m\u001b[0;34m\u001b[0m\u001b[0m\n\u001b[0;32m-> 5141\u001b[0;31m             \u001b[0;32mreturn\u001b[0m \u001b[0mobject\u001b[0m\u001b[0;34m.\u001b[0m\u001b[0m__getattribute__\u001b[0m\u001b[0;34m(\u001b[0m\u001b[0mself\u001b[0m\u001b[0;34m,\u001b[0m \u001b[0mname\u001b[0m\u001b[0;34m)\u001b[0m\u001b[0;34m\u001b[0m\u001b[0;34m\u001b[0m\u001b[0m\n\u001b[0m\u001b[1;32m   5142\u001b[0m \u001b[0;34m\u001b[0m\u001b[0m\n\u001b[1;32m   5143\u001b[0m     \u001b[0;32mdef\u001b[0m \u001b[0m__setattr__\u001b[0m\u001b[0;34m(\u001b[0m\u001b[0mself\u001b[0m\u001b[0;34m,\u001b[0m \u001b[0mname\u001b[0m\u001b[0;34m:\u001b[0m \u001b[0mstr\u001b[0m\u001b[0;34m,\u001b[0m \u001b[0mvalue\u001b[0m\u001b[0;34m)\u001b[0m \u001b[0;34m->\u001b[0m \u001b[0;32mNone\u001b[0m\u001b[0;34m:\u001b[0m\u001b[0;34m\u001b[0m\u001b[0;34m\u001b[0m\u001b[0m\n",
            "\u001b[0;31mAttributeError\u001b[0m: 'DataFrame' object has no attribute 'correct'"
          ]
        }
      ]
    },
    {
      "cell_type": "markdown",
      "metadata": {
        "id": "aqPLkyjb3UTq"
      },
      "source": [
        "df_pred.correct.mean()\n",
        "0.8034066713981547"
      ]
    },
    {
      "cell_type": "code",
      "metadata": {
        "id": "zDvCx6XFzXS-"
      },
      "source": [
        "churn_decision.astype(int)"
      ],
      "execution_count": null,
      "outputs": []
    },
    {
      "cell_type": "markdown",
      "metadata": {
        "id": "K0o8Ww8Q3Vfl"
      },
      "source": [
        "**Model interpretation**"
      ]
    },
    {
      "cell_type": "code",
      "metadata": {
        "colab": {
          "base_uri": "https://localhost:8080/"
        },
        "id": "I7ONiVVI3Yxv",
        "outputId": "85c25824-dcee-4722-bb6d-4e4c7ca3cc2f"
      },
      "source": [
        "dict(zip(dv.get_feature_names(), model.coef_[0].round(3)))"
      ],
      "execution_count": null,
      "outputs": [
        {
          "output_type": "stream",
          "name": "stderr",
          "text": [
            "/usr/local/lib/python3.7/dist-packages/sklearn/utils/deprecation.py:87: FutureWarning: Function get_feature_names is deprecated; get_feature_names is deprecated in 1.0 and will be removed in 1.2. Please use get_feature_names_out instead.\n",
            "  warnings.warn(msg, category=FutureWarning)\n"
          ]
        },
        {
          "output_type": "execute_result",
          "data": {
            "text/plain": [
              "{'contract=month-to-month': 0.904,\n",
              " 'contract=one_year': 0.231,\n",
              " 'contract=two_year': -1.309,\n",
              " 'dependents=no': -0.113,\n",
              " 'dependents=yes': -0.061,\n",
              " 'deviceprotection=no': 0.003,\n",
              " 'deviceprotection=no_internet_service': -0.12,\n",
              " 'deviceprotection=yes': -0.057,\n",
              " 'gender=female': -0.081,\n",
              " 'gender=male': -0.093,\n",
              " 'internetservice=dsl': -0.477,\n",
              " 'internetservice=fiber_optic': 0.423,\n",
              " 'internetservice=no': -0.12,\n",
              " 'monthlycharges': 0.002,\n",
              " 'multiplelines=no': -0.236,\n",
              " 'multiplelines=no_phone_service': 0.049,\n",
              " 'multiplelines=yes': 0.013,\n",
              " 'onlinebackup=no': 0.033,\n",
              " 'onlinebackup=no_internet_service': -0.12,\n",
              " 'onlinebackup=yes': -0.087,\n",
              " 'onlinesecurity=no': 0.138,\n",
              " 'onlinesecurity=no_internet_service': -0.12,\n",
              " 'onlinesecurity=yes': -0.192,\n",
              " 'paperlessbilling=no': -0.3,\n",
              " 'paperlessbilling=yes': 0.127,\n",
              " 'partner=no': -0.16,\n",
              " 'partner=yes': -0.014,\n",
              " 'paymentmethod=bank_transfer_(automatic)': -0.164,\n",
              " 'paymentmethod=credit_card_(automatic)': -0.13,\n",
              " 'paymentmethod=electronic_check': 0.103,\n",
              " 'paymentmethod=mailed_check': 0.017,\n",
              " 'phoneservice=no': 0.049,\n",
              " 'phoneservice=yes': -0.223,\n",
              " 'seniorcitizen': 0.178,\n",
              " 'streamingmovies=no': -0.13,\n",
              " 'streamingmovies=no_internet_service': -0.12,\n",
              " 'streamingmovies=yes': 0.076,\n",
              " 'streamingtv=no': -0.118,\n",
              " 'streamingtv=no_internet_service': -0.12,\n",
              " 'streamingtv=yes': 0.064,\n",
              " 'techsupport=no': 0.104,\n",
              " 'techsupport=no_internet_service': -0.12,\n",
              " 'techsupport=yes': -0.158,\n",
              " 'tenure': -0.03,\n",
              " 'totalcharges=100.35': -0.007,\n",
              " 'totalcharges=100.4': 0.042,\n",
              " 'totalcharges=100.8': 0.013,\n",
              " 'totalcharges=100.9': -0.014,\n",
              " 'totalcharges=1001.5': -0.001,\n",
              " 'totalcharges=1004.5': -0.002,\n",
              " 'totalcharges=1006.9': -0.003,\n",
              " 'totalcharges=1007.8': -0.002,\n",
              " 'totalcharges=1007.9': -0.002,\n",
              " 'totalcharges=1008.7': -0.001,\n",
              " 'totalcharges=1009.25': -0.029,\n",
              " 'totalcharges=101.65': -0.04,\n",
              " 'totalcharges=101.9': -0.021,\n",
              " 'totalcharges=1011.05': -0.031,\n",
              " 'totalcharges=1011.8': -0.063,\n",
              " 'totalcharges=1012.4': -0.002,\n",
              " 'totalcharges=1013.2': -0.002,\n",
              " 'totalcharges=1014.25': -0.003,\n",
              " 'totalcharges=1016.7': -0.002,\n",
              " 'totalcharges=102.45': 0.023,\n",
              " 'totalcharges=102.75': 0.065,\n",
              " 'totalcharges=1020.2': -0.061,\n",
              " 'totalcharges=1021.55': -0.07,\n",
              " 'totalcharges=1021.8': 0.096,\n",
              " 'totalcharges=1022.5': -0.019,\n",
              " 'totalcharges=1022.95': -0.002,\n",
              " 'totalcharges=1023.75': -0.02,\n",
              " 'totalcharges=1023.9': 0.072,\n",
              " 'totalcharges=1023.95': -0.001,\n",
              " 'totalcharges=1024': -0.009,\n",
              " 'totalcharges=1024.65': -0.001,\n",
              " 'totalcharges=1024.7': -0.004,\n",
              " 'totalcharges=1025.95': 0.053,\n",
              " 'totalcharges=1026.35': -0.002,\n",
              " 'totalcharges=1028.75': -0.001,\n",
              " 'totalcharges=1029.35': -0.051,\n",
              " 'totalcharges=1029.8': -0.002,\n",
              " 'totalcharges=103.7': -0.032,\n",
              " 'totalcharges=1031.7': -0.001,\n",
              " 'totalcharges=1032': 0.063,\n",
              " 'totalcharges=1032.05': -0.002,\n",
              " 'totalcharges=1033': -0.003,\n",
              " 'totalcharges=1033.9': -0.033,\n",
              " 'totalcharges=1035.5': -0.001,\n",
              " 'totalcharges=1036.75': 0.031,\n",
              " 'totalcharges=1037.75': 0.021,\n",
              " 'totalcharges=1039.45': -0.002,\n",
              " 'totalcharges=104.2': 0.069,\n",
              " 'totalcharges=1041.8': -0.002,\n",
              " 'totalcharges=1043.3': 0.047,\n",
              " 'totalcharges=1043.35': 0.055,\n",
              " 'totalcharges=1043.8': -0.04,\n",
              " 'totalcharges=1045.25': -0.016,\n",
              " 'totalcharges=1046.1': 0.023,\n",
              " 'totalcharges=1046.5': 0.032,\n",
              " 'totalcharges=1047.7': 0.035,\n",
              " 'totalcharges=1049.05': -0.02,\n",
              " 'totalcharges=1049.6': -0.001,\n",
              " 'totalcharges=105.5': -0.009,\n",
              " 'totalcharges=105.6': -0.042,\n",
              " 'totalcharges=1052.35': 0.097,\n",
              " 'totalcharges=1054.6': 0.08,\n",
              " 'totalcharges=1054.75': -0.001,\n",
              " 'totalcharges=1054.8': -0.007,\n",
              " 'totalcharges=1055.9': -0.007,\n",
              " 'totalcharges=1056.95': 0.021,\n",
              " 'totalcharges=1057.55': -0.07,\n",
              " 'totalcharges=1057.85': -0.001,\n",
              " 'totalcharges=1058.1': -0.063,\n",
              " 'totalcharges=1058.6': 0.036,\n",
              " 'totalcharges=1059.55': 0.029,\n",
              " 'totalcharges=106.2': -0.031,\n",
              " 'totalcharges=106.8': -0.017,\n",
              " 'totalcharges=106.9': -0.007,\n",
              " 'totalcharges=1060.2': 0.045,\n",
              " 'totalcharges=1060.6': 0.039,\n",
              " 'totalcharges=1064.65': 0.028,\n",
              " 'totalcharges=1064.95': -0.045,\n",
              " 'totalcharges=1066.15': -0.004,\n",
              " 'totalcharges=1066.9': -0.071,\n",
              " 'totalcharges=1067.05': -0.043,\n",
              " 'totalcharges=1068.85': 0.025,\n",
              " 'totalcharges=107.05': -0.016,\n",
              " 'totalcharges=107.1': -0.036,\n",
              " 'totalcharges=107.6': -0.01,\n",
              " 'totalcharges=1070.15': -0.004,\n",
              " 'totalcharges=1070.25': -0.001,\n",
              " 'totalcharges=1070.7': -0.018,\n",
              " 'totalcharges=1071.4': -0.027,\n",
              " 'totalcharges=1071.6': -0.002,\n",
              " 'totalcharges=1072': 0.036,\n",
              " 'totalcharges=1072.6': -0.007,\n",
              " 'totalcharges=1073.3': -0.049,\n",
              " 'totalcharges=1074.3': 0.041,\n",
              " 'totalcharges=1074.65': -0.028,\n",
              " 'totalcharges=1077.5': 0.077,\n",
              " 'totalcharges=1078.75': -0.001,\n",
              " 'totalcharges=108.05': 0.082,\n",
              " 'totalcharges=108.15': 0.067,\n",
              " 'totalcharges=108.65': -0.048,\n",
              " 'totalcharges=108.95': 0.048,\n",
              " 'totalcharges=1081.25': -0.017,\n",
              " 'totalcharges=1081.45': 0.039,\n",
              " 'totalcharges=1082.75': -0.007,\n",
              " 'totalcharges=1083': -0.001,\n",
              " 'totalcharges=1083.7': -0.032,\n",
              " 'totalcharges=1086.75': -0.001,\n",
              " 'totalcharges=1087.25': -0.003,\n",
              " 'totalcharges=1087.7': -0.002,\n",
              " 'totalcharges=1088.25': -0.002,\n",
              " 'totalcharges=109.2': -0.016,\n",
              " 'totalcharges=109.25': -0.033,\n",
              " 'totalcharges=109.5': -0.021,\n",
              " 'totalcharges=109.8': -0.016,\n",
              " 'totalcharges=1090.65': -0.003,\n",
              " 'totalcharges=1092.35': -0.002,\n",
              " 'totalcharges=1093': -0.001,\n",
              " 'totalcharges=1093.1': 0.06,\n",
              " 'totalcharges=1093.2': -0.024,\n",
              " 'totalcharges=1094.5': 0.025,\n",
              " 'totalcharges=1096.6': -0.029,\n",
              " 'totalcharges=1096.65': -0.013,\n",
              " 'totalcharges=1098.85': -0.049,\n",
              " 'totalcharges=110.15': -0.015,\n",
              " 'totalcharges=1101.85': 0.032,\n",
              " 'totalcharges=1103.25': -0.001,\n",
              " 'totalcharges=1107.2': -0.001,\n",
              " 'totalcharges=1107.25': 0.04,\n",
              " 'totalcharges=1108': -0.032,\n",
              " 'totalcharges=1108.2': -0.003,\n",
              " 'totalcharges=1108.6': -0.052,\n",
              " 'totalcharges=111.05': -0.031,\n",
              " 'totalcharges=111.4': -0.042,\n",
              " 'totalcharges=1110.35': -0.002,\n",
              " 'totalcharges=1110.5': -0.003,\n",
              " 'totalcharges=1111.2': -0.024,\n",
              " 'totalcharges=1111.85': 0.037,\n",
              " 'totalcharges=1112.3': -0.043,\n",
              " 'totalcharges=1113.95': -0.005,\n",
              " 'totalcharges=1114.55': -0.043,\n",
              " 'totalcharges=1114.85': -0.008,\n",
              " 'totalcharges=1115.6': -0.001,\n",
              " 'totalcharges=1119.35': -0.011,\n",
              " 'totalcharges=112.3': 0.082,\n",
              " 'totalcharges=112.75': -0.016,\n",
              " 'totalcharges=1120.3': 0.025,\n",
              " 'totalcharges=1120.95': 0.05,\n",
              " 'totalcharges=1121.05': -0.003,\n",
              " 'totalcharges=1122.4': -0.064,\n",
              " 'totalcharges=1123.15': -0.001,\n",
              " 'totalcharges=1124.2': -0.001,\n",
              " 'totalcharges=1125.6': -0.001,\n",
              " 'totalcharges=1126.75': -0.002,\n",
              " 'totalcharges=1127.2': 0.024,\n",
              " 'totalcharges=1129.1': 0.033,\n",
              " 'totalcharges=1129.35': -0.058,\n",
              " 'totalcharges=1129.75': 0.023,\n",
              " 'totalcharges=113.1': -0.043,\n",
              " 'totalcharges=113.5': -0.025,\n",
              " 'totalcharges=113.55': 0.066,\n",
              " 'totalcharges=113.85': 0.082,\n",
              " 'totalcharges=113.95': -0.058,\n",
              " 'totalcharges=1130': -0.054,\n",
              " 'totalcharges=1130.85': 0.004,\n",
              " 'totalcharges=1131.2': 0.018,\n",
              " 'totalcharges=1132.75': 0.032,\n",
              " 'totalcharges=1133.7': -0.003,\n",
              " 'totalcharges=1134.25': -0.002,\n",
              " 'totalcharges=1135.7': 0.03,\n",
              " 'totalcharges=1137.05': -0.034,\n",
              " 'totalcharges=1138.8': -0.003,\n",
              " 'totalcharges=114.1': 0.05,\n",
              " 'totalcharges=1143.8': -0.001,\n",
              " 'totalcharges=1144.5': 0.046,\n",
              " 'totalcharges=1144.6': -0.021,\n",
              " 'totalcharges=1145.35': 0.02,\n",
              " 'totalcharges=1145.7': 0.033,\n",
              " 'totalcharges=1146.05': -0.001,\n",
              " 'totalcharges=1146.65': 0.04,\n",
              " 'totalcharges=1149.65': -0.001,\n",
              " 'totalcharges=115.1': 0.058,\n",
              " 'totalcharges=1151.05': -0.012,\n",
              " 'totalcharges=1151.55': -0.033,\n",
              " 'totalcharges=1155.6': -0.024,\n",
              " 'totalcharges=1157.05': 0.07,\n",
              " 'totalcharges=1158.85': -0.002,\n",
              " 'totalcharges=116.6': -0.009,\n",
              " 'totalcharges=116.85': -0.007,\n",
              " 'totalcharges=1160.45': -0.002,\n",
              " 'totalcharges=1161.75': -0.014,\n",
              " 'totalcharges=1162.85': 0.033,\n",
              " 'totalcharges=1164.05': -0.041,\n",
              " 'totalcharges=1165.55': -0.024,\n",
              " 'totalcharges=1165.9': -0.003,\n",
              " 'totalcharges=1166.7': -0.025,\n",
              " 'totalcharges=1167.6': -0.001,\n",
              " 'totalcharges=1167.8': 0.02,\n",
              " 'totalcharges=1169.35': 0.041,\n",
              " 'totalcharges=117.8': -0.009,\n",
              " 'totalcharges=117.95': -0.016,\n",
              " 'totalcharges=1170.55': -0.001,\n",
              " 'totalcharges=1173.35': -0.002,\n",
              " 'totalcharges=1173.55': -0.067,\n",
              " 'totalcharges=1174.8': -0.003,\n",
              " 'totalcharges=1175.6': -0.013,\n",
              " 'totalcharges=1175.85': -0.019,\n",
              " 'totalcharges=1177.05': -0.001,\n",
              " 'totalcharges=1178.25': 0.042,\n",
              " 'totalcharges=1178.4': 0.038,\n",
              " 'totalcharges=118.3': 0.051,\n",
              " 'totalcharges=118.4': -0.037,\n",
              " 'totalcharges=118.5': 0.046,\n",
              " 'totalcharges=1180.95': 0.036,\n",
              " 'totalcharges=1182.55': 0.095,\n",
              " 'totalcharges=1183.05': -0.073,\n",
              " 'totalcharges=1183.2': -0.008,\n",
              " 'totalcharges=1183.8': -0.028,\n",
              " 'totalcharges=1184': -0.044,\n",
              " 'totalcharges=1187.05': -0.017,\n",
              " 'totalcharges=1188.2': -0.004,\n",
              " 'totalcharges=1188.25': -0.001,\n",
              " 'totalcharges=1189.9': -0.001,\n",
              " 'totalcharges=119.3': -0.016,\n",
              " 'totalcharges=119.75': 0.04,\n",
              " 'totalcharges=1192.3': -0.001,\n",
              " 'totalcharges=1192.7': -0.001,\n",
              " 'totalcharges=1193.05': 0.087,\n",
              " 'totalcharges=1193.55': -0.001,\n",
              " 'totalcharges=1194.3': 0.046,\n",
              " 'totalcharges=1195.75': -0.039,\n",
              " 'totalcharges=1195.95': -0.001,\n",
              " 'totalcharges=1198.05': -0.001,\n",
              " 'totalcharges=1199.4': -0.022,\n",
              " 'totalcharges=120.25': -0.068,\n",
              " 'totalcharges=1200.15': 0.021,\n",
              " 'totalcharges=1203.9': -0.068,\n",
              " 'totalcharges=1203.95': -0.003,\n",
              " 'totalcharges=1205.05': -0.001,\n",
              " 'totalcharges=1206.05': 0.083,\n",
              " 'totalcharges=1207': -0.051,\n",
              " 'totalcharges=1208.35': 0.047,\n",
              " 'totalcharges=1208.6': -0.001,\n",
              " 'totalcharges=1209.25': -0.001,\n",
              " 'totalcharges=1210.3': -0.001,\n",
              " 'totalcharges=1211.65': -0.002,\n",
              " 'totalcharges=1212.1': -0.039,\n",
              " 'totalcharges=1212.25': -0.001,\n",
              " 'totalcharges=1215.45': -0.019,\n",
              " 'totalcharges=1215.6': 0.036,\n",
              " 'totalcharges=1215.65': -0.07,\n",
              " 'totalcharges=1215.8': -0.024,\n",
              " 'totalcharges=1216.35': -0.003,\n",
              " 'totalcharges=1218.45': -0.001,\n",
              " 'totalcharges=1218.55': 0.019,\n",
              " 'totalcharges=1218.65': -0.001,\n",
              " 'totalcharges=122': -0.014,\n",
              " 'totalcharges=122.7': -0.035,\n",
              " 'totalcharges=122.9': -0.015,\n",
              " 'totalcharges=1221.65': -0.051,\n",
              " 'totalcharges=1222.05': 0.044,\n",
              " 'totalcharges=1222.65': -0.001,\n",
              " 'totalcharges=1222.8': 0.038,\n",
              " 'totalcharges=1224.05': -0.014,\n",
              " 'totalcharges=123.05': -0.025,\n",
              " 'totalcharges=123.65': 0.04,\n",
              " 'totalcharges=1233.15': -0.017,\n",
              " 'totalcharges=1234.8': -0.001,\n",
              " 'totalcharges=1235.55': -0.071,\n",
              " 'totalcharges=1236.15': 0.067,\n",
              " 'totalcharges=1237.3': -0.011,\n",
              " 'totalcharges=1237.65': -0.001,\n",
              " 'totalcharges=1237.85': 0.026,\n",
              " 'totalcharges=1238.45': 0.041,\n",
              " 'totalcharges=124.45': -0.007,\n",
              " 'totalcharges=1240.15': -0.001,\n",
              " 'totalcharges=1242.2': -0.053,\n",
              " 'totalcharges=1244.8': -0.001,\n",
              " 'totalcharges=1246.4': -0.022,\n",
              " 'totalcharges=125.95': -0.037,\n",
              " 'totalcharges=1250.1': -0.001,\n",
              " 'totalcharges=1250.85': -0.004,\n",
              " 'totalcharges=1252.85': -0.001,\n",
              " 'totalcharges=1253.15': -0.01,\n",
              " 'totalcharges=1253.65': -0.001,\n",
              " 'totalcharges=1253.8': -0.001,\n",
              " 'totalcharges=1253.9': 0.025,\n",
              " 'totalcharges=1254.7': 0.08,\n",
              " 'totalcharges=1258.15': -0.001,\n",
              " 'totalcharges=1258.3': 0.038,\n",
              " 'totalcharges=1258.35': -0.009,\n",
              " 'totalcharges=1258.6': 0.03,\n",
              " 'totalcharges=1259': 0.032,\n",
              " 'totalcharges=1259.35': -0.041,\n",
              " 'totalcharges=126.05': 0.081,\n",
              " 'totalcharges=1260.7': -0.003,\n",
              " 'totalcharges=1261': -0.056,\n",
              " 'totalcharges=1261.45': -0.002,\n",
              " 'totalcharges=1261.7': -0.002,\n",
              " 'totalcharges=1263.85': -0.001,\n",
              " 'totalcharges=1263.9': -0.001,\n",
              " 'totalcharges=1264.2': -0.034,\n",
              " 'totalcharges=1265.65': -0.026,\n",
              " 'totalcharges=1266.1': 0.037,\n",
              " 'totalcharges=1266.35': -0.009,\n",
              " 'totalcharges=1266.4': -0.003,\n",
              " 'totalcharges=1267': -0.001,\n",
              " 'totalcharges=1267.05': -0.001,\n",
              " 'totalcharges=1268.85': -0.001,\n",
              " 'totalcharges=127.1': 0.058,\n",
              " 'totalcharges=1270.55': -0.001,\n",
              " 'totalcharges=1271.8': -0.013,\n",
              " 'totalcharges=1272.05': -0.001,\n",
              " 'totalcharges=1274.45': -0.012,\n",
              " 'totalcharges=1275.6': -0.002,\n",
              " 'totalcharges=1275.7': -0.018,\n",
              " 'totalcharges=1277.75': -0.001,\n",
              " 'totalcharges=1278.8': -0.001,\n",
              " 'totalcharges=128.6': -0.014,\n",
              " 'totalcharges=1281': 0.028,\n",
              " 'totalcharges=1282.85': -0.008,\n",
              " 'totalcharges=1284.2': 0.039,\n",
              " 'totalcharges=1285.05': -0.072,\n",
              " 'totalcharges=1285.8': -0.009,\n",
              " 'totalcharges=1286': -0.001,\n",
              " 'totalcharges=1286.05': -0.021,\n",
              " 'totalcharges=1287.85': -0.019,\n",
              " 'totalcharges=1288.75': -0.023,\n",
              " 'totalcharges=129.55': -0.015,\n",
              " 'totalcharges=129.6': -0.047,\n",
              " 'totalcharges=1290': 0.02,\n",
              " 'totalcharges=1291.3': -0.025,\n",
              " 'totalcharges=1291.35': -0.02,\n",
              " 'totalcharges=1292.6': -0.001,\n",
              " 'totalcharges=1293.8': -0.046,\n",
              " 'totalcharges=1295.4': -0.018,\n",
              " 'totalcharges=1297.35': -0.001,\n",
              " 'totalcharges=1297.8': -0.018,\n",
              " 'totalcharges=1298.7': -0.001,\n",
              " 'totalcharges=1299.8': -0.019,\n",
              " 'totalcharges=130.25': -0.007,\n",
              " 'totalcharges=130.55': -0.019,\n",
              " 'totalcharges=1301.1': -0.001,\n",
              " 'totalcharges=1301.7': 0.033,\n",
              " 'totalcharges=1303.5': -0.001,\n",
              " 'totalcharges=1304.8': -0.001,\n",
              " 'totalcharges=1304.85': -0.015,\n",
              " 'totalcharges=1305.95': -0.061,\n",
              " 'totalcharges=1306.3': -0.004,\n",
              " 'totalcharges=1308.1': 0.027,\n",
              " 'totalcharges=1309': -0.02,\n",
              " 'totalcharges=1309.15': -0.007,\n",
              " 'totalcharges=131.05': 0.077,\n",
              " 'totalcharges=1311.6': -0.001,\n",
              " 'totalcharges=1311.75': -0.001,\n",
              " 'totalcharges=1312.15': 0.041,\n",
              " 'totalcharges=1312.45': -0.013,\n",
              " 'totalcharges=1313.25': -0.059,\n",
              " 'totalcharges=1313.55': 0.048,\n",
              " 'totalcharges=1316.9': -0.01,\n",
              " 'totalcharges=1319.85': -0.01,\n",
              " 'totalcharges=132.2': 0.033,\n",
              " 'totalcharges=132.4': -0.04,\n",
              " 'totalcharges=1321.3': -0.032,\n",
              " 'totalcharges=1322.55': -0.049,\n",
              " 'totalcharges=1323.7': -0.013,\n",
              " 'totalcharges=1326.35': -0.001,\n",
              " 'totalcharges=1329.15': -0.056,\n",
              " 'totalcharges=1329.2': 0.044,\n",
              " 'totalcharges=1331.05': -0.002,\n",
              " 'totalcharges=1332.4': -0.046,\n",
              " 'totalcharges=1334.5': -0.002,\n",
              " 'totalcharges=1335.2': -0.001,\n",
              " 'totalcharges=1336.15': -0.016,\n",
              " 'totalcharges=1336.35': -0.001,\n",
              " 'totalcharges=1336.9': -0.057,\n",
              " 'totalcharges=1337.45': -0.067,\n",
              " 'totalcharges=1337.5': -0.001,\n",
              " 'totalcharges=1338.15': 0.08,\n",
              " 'totalcharges=134.05': -0.009,\n",
              " 'totalcharges=134.35': 0.051,\n",
              " 'totalcharges=134.5': 0.065,\n",
              " 'totalcharges=134.6': -0.027,\n",
              " 'totalcharges=1340.1': -0.06,\n",
              " 'totalcharges=1342.15': -0.003,\n",
              " 'totalcharges=1344.5': -0.001,\n",
              " 'totalcharges=1345.85': -0.002,\n",
              " 'totalcharges=1348.95': -0.044,\n",
              " 'totalcharges=135': 0.072,\n",
              " 'totalcharges=135.2': -0.066,\n",
              " 'totalcharges=135.75': -0.066,\n",
              " 'totalcharges=1355.1': -0.001,\n",
              " 'totalcharges=1355.45': -0.009,\n",
              " 'totalcharges=1356.3': -0.001,\n",
              " 'totalcharges=1356.7': -0.001,\n",
              " 'totalcharges=1357.1': -0.001,\n",
              " 'totalcharges=1358.6': -0.039,\n",
              " 'totalcharges=1359': 0.024,\n",
              " 'totalcharges=1359.5': -0.002,\n",
              " 'totalcharges=1359.7': 0.073,\n",
              " 'totalcharges=136.05': -0.071,\n",
              " 'totalcharges=1360.25': -0.001,\n",
              " 'totalcharges=1362.85': -0.012,\n",
              " 'totalcharges=1363.25': -0.001,\n",
              " 'totalcharges=1363.45': -0.001,\n",
              " 'totalcharges=1364.3': 0.022,\n",
              " 'totalcharges=1364.75': -0.017,\n",
              " 'totalcharges=1367.75': -0.018,\n",
              " 'totalcharges=1369.8': 0.019,\n",
              " 'totalcharges=137.1': -0.055,\n",
              " 'totalcharges=137.25': -0.038,\n",
              " 'totalcharges=137.6': 0.064,\n",
              " 'totalcharges=137.85': 0.054,\n",
              " 'totalcharges=1370.35': -0.031,\n",
              " 'totalcharges=1372.45': -0.001,\n",
              " 'totalcharges=1372.9': -0.001,\n",
              " 'totalcharges=1373': -0.025,\n",
              " 'totalcharges=1373.05': -0.038,\n",
              " 'totalcharges=1374.2': -0.001,\n",
              " 'totalcharges=1374.9': -0.043,\n",
              " 'totalcharges=1375.15': 0.026,\n",
              " 'totalcharges=1375.4': -0.001,\n",
              " 'totalcharges=1375.6': -0.022,\n",
              " 'totalcharges=1377.7': -0.001,\n",
              " 'totalcharges=1378.45': -0.001,\n",
              " 'totalcharges=1378.75': -0.001,\n",
              " 'totalcharges=138.85': -0.015,\n",
              " 'totalcharges=1380.4': -0.041,\n",
              " 'totalcharges=1381.8': -0.021,\n",
              " 'totalcharges=1383.6': -0.011,\n",
              " 'totalcharges=1384.75': 0.033,\n",
              " 'totalcharges=1385.85': -0.002,\n",
              " 'totalcharges=1386.8': -0.009,\n",
              " 'totalcharges=1387': -0.047,\n",
              " 'totalcharges=1387.35': -0.011,\n",
              " 'totalcharges=1387.45': -0.001,\n",
              " 'totalcharges=1388.45': -0.001,\n",
              " 'totalcharges=1388.75': -0.008,\n",
              " 'totalcharges=1389.2': 0.056,\n",
              " 'totalcharges=1389.6': -0.001,\n",
              " 'totalcharges=139.25': -0.058,\n",
              " 'totalcharges=139.35': 0.07,\n",
              " 'totalcharges=139.4': 0.038,\n",
              " 'totalcharges=139.75': -0.015,\n",
              " 'totalcharges=1391.15': -0.07,\n",
              " 'totalcharges=1391.65': -0.007,\n",
              " 'totalcharges=1393.6': -0.023,\n",
              " 'totalcharges=1394.55': -0.037,\n",
              " 'totalcharges=1396': -0.001,\n",
              " 'totalcharges=1396.25': -0.001,\n",
              " 'totalcharges=1396.9': -0.001,\n",
              " 'totalcharges=1397.65': -0.001,\n",
              " 'totalcharges=1398.25': -0.026,\n",
              " 'totalcharges=1399.35': -0.001,\n",
              " 'totalcharges=140.4': -0.049,\n",
              " 'totalcharges=140.7': 0.043,\n",
              " 'totalcharges=140.95': -0.011,\n",
              " 'totalcharges=1401.15': -0.001,\n",
              " 'totalcharges=1402.25': -0.001,\n",
              " 'totalcharges=1403.1': -0.001,\n",
              " 'totalcharges=1405.3': -0.022,\n",
              " 'totalcharges=141.1': -0.015,\n",
              " 'totalcharges=141.5': 0.055,\n",
              " 'totalcharges=141.7': -0.032,\n",
              " 'totalcharges=1410.25': -0.028,\n",
              " 'totalcharges=1411.2': -0.001,\n",
              " 'totalcharges=1411.35': -0.011,\n",
              " 'totalcharges=1411.9': -0.001,\n",
              " 'totalcharges=1414.2': -0.009,\n",
              " 'totalcharges=1415.55': 0.025,\n",
              " 'totalcharges=1415.85': -0.001,\n",
              " 'totalcharges=1416.2': -0.021,\n",
              " 'totalcharges=1416.5': -0.001,\n",
              " 'totalcharges=1417.9': -0.001,\n",
              " 'totalcharges=1419.4': -0.001,\n",
              " 'totalcharges=142.35': 0.028,\n",
              " 'totalcharges=1421.9': -0.001,\n",
              " 'totalcharges=1422.1': 0.031,\n",
              " 'totalcharges=1422.65': 0.041,\n",
              " 'totalcharges=1423.15': -0.019,\n",
              " 'totalcharges=1423.35': -0.006,\n",
              " 'totalcharges=1423.65': -0.001,\n",
              " 'totalcharges=1423.85': -0.001,\n",
              " 'totalcharges=1424.2': -0.002,\n",
              " 'totalcharges=1424.5': 0.052,\n",
              " 'totalcharges=1424.6': -0.002,\n",
              " 'totalcharges=1424.95': 0.033,\n",
              " 'totalcharges=1425.45': 0.072,\n",
              " 'totalcharges=1426.4': 0.044,\n",
              " 'totalcharges=1426.45': -0.005,\n",
              " 'totalcharges=1427.55': -0.016,\n",
              " 'totalcharges=143.35': 0.025,\n",
              " 'totalcharges=143.65': -0.006,\n",
              " 'totalcharges=1430.25': 0.044,\n",
              " 'totalcharges=1432.55': -0.001,\n",
              " 'totalcharges=1434.1': -0.001,\n",
              " 'totalcharges=1438.05': -0.035,\n",
              " 'totalcharges=144': -0.065,\n",
              " 'totalcharges=144.15': 0.027,\n",
              " 'totalcharges=144.35': -0.015,\n",
              " 'totalcharges=144.55': 0.028,\n",
              " 'totalcharges=144.95': -0.015,\n",
              " 'totalcharges=1441.1': 0.055,\n",
              " 'totalcharges=1441.65': -0.001,\n",
              " 'totalcharges=1441.95': -0.022,\n",
              " 'totalcharges=1442': -0.034,\n",
              " 'totalcharges=1442.2': -0.061,\n",
              " 'totalcharges=1443.65': -0.063,\n",
              " 'totalcharges=1444.05': -0.002,\n",
              " 'totalcharges=1445.2': -0.002,\n",
              " 'totalcharges=1445.3': 0.091,\n",
              " 'totalcharges=1445.95': -0.015,\n",
              " 'totalcharges=1448.6': 0.041,\n",
              " 'totalcharges=1448.8': 0.087,\n",
              " 'totalcharges=145.15': -0.071,\n",
              " 'totalcharges=1451.9': 0.04,\n",
              " 'totalcharges=1453.1': -0.014,\n",
              " 'totalcharges=1457.25': 0.033,\n",
              " 'totalcharges=1458.1': -0.001,\n",
              " 'totalcharges=1459.35': -0.018,\n",
              " 'totalcharges=146.4': -0.026,\n",
              " 'totalcharges=146.6': -0.01,\n",
              " 'totalcharges=146.9': 0.05,\n",
              " 'totalcharges=1460.65': 0.042,\n",
              " 'totalcharges=1460.85': -0.001,\n",
              " 'totalcharges=1461.45': -0.008,\n",
              " 'totalcharges=1462.05': -0.001,\n",
              " 'totalcharges=1463.45': 0.044,\n",
              " 'totalcharges=1463.5': 0.043,\n",
              " 'totalcharges=1465.75': 0.033,\n",
              " 'totalcharges=1468.75': -0.001,\n",
              " 'totalcharges=147.15': 0.074,\n",
              " 'totalcharges=147.75': -0.032,\n",
              " 'totalcharges=147.8': -0.047,\n",
              " 'totalcharges=1470.05': -0.061,\n",
              " 'totalcharges=1470.95': 0.049,\n",
              " 'totalcharges=1474.75': 0.043,\n",
              " 'totalcharges=1478.85': -0.028,\n",
              " 'totalcharges=149.05': -0.052,\n",
              " 'totalcharges=149.55': 0.023,\n",
              " 'totalcharges=1490.4': -0.044,\n",
              " 'totalcharges=1492.1': -0.001,\n",
              " 'totalcharges=1493.1': -0.002,\n",
              " 'totalcharges=1493.2': -0.001,\n",
              " 'totalcharges=1493.75': -0.001,\n",
              " 'totalcharges=1494.5': -0.023,\n",
              " 'totalcharges=1496.9': 0.038,\n",
              " 'totalcharges=1497.05': -0.023,\n",
              " 'totalcharges=1497.9': -0.003,\n",
              " 'totalcharges=1498.2': 0.076,\n",
              " 'totalcharges=1498.35': -0.002,\n",
              " 'totalcharges=1498.55': -0.016,\n",
              " 'totalcharges=1498.85': -0.001,\n",
              " 'totalcharges=150': -0.009,\n",
              " 'totalcharges=150.35': -0.013,\n",
              " 'totalcharges=150.6': -0.015,\n",
              " 'totalcharges=150.75': -0.015,\n",
              " 'totalcharges=150.85': -0.034,\n",
              " 'totalcharges=1500.25': -0.016,\n",
              " 'totalcharges=1500.5': -0.042,\n",
              " 'totalcharges=1500.95': -0.001,\n",
              " 'totalcharges=1502.25': -0.001,\n",
              " 'totalcharges=1502.65': 0.065,\n",
              " 'totalcharges=1504.05': 0.024,\n",
              " 'totalcharges=1505.05': -0.001,\n",
              " 'totalcharges=1505.15': -0.02,\n",
              " 'totalcharges=1505.35': -0.008,\n",
              " 'totalcharges=1505.45': -0.062,\n",
              " 'totalcharges=1505.85': 0.042,\n",
              " 'totalcharges=1506.4': -0.002,\n",
              " 'totalcharges=1507': -0.009,\n",
              " 'totalcharges=1509.8': -0.021,\n",
              " 'totalcharges=1509.9': -0.001,\n",
              " 'totalcharges=151.3': 0.048,\n",
              " 'totalcharges=151.75': -0.064,\n",
              " 'totalcharges=1510.5': -0.001,\n",
              " 'totalcharges=1511.2': 0.035,\n",
              " 'totalcharges=1513.6': -0.002,\n",
              " 'totalcharges=1515.1': 0.027,\n",
              " 'totalcharges=1516.6': -0.008,\n",
              " 'totalcharges=1517.5': -0.011,\n",
              " 'totalcharges=152.3': -0.032,\n",
              " 'totalcharges=152.45': 0.042,\n",
              " 'totalcharges=152.6': -0.019,\n",
              " 'totalcharges=152.95': -0.024,\n",
              " 'totalcharges=1520.1': -0.009,\n",
              " 'totalcharges=1522.65': -0.012,\n",
              " 'totalcharges=1522.7': -0.043,\n",
              " 'totalcharges=1523.4': -0.026,\n",
              " 'totalcharges=1524.85': -0.006,\n",
              " 'totalcharges=1525.35': -0.008,\n",
              " 'totalcharges=1527.35': 0.037,\n",
              " 'totalcharges=1529.65': -0.001,\n",
              " 'totalcharges=153.05': 0.044,\n",
              " 'totalcharges=153.8': -0.072,\n",
              " 'totalcharges=153.95': -0.008,\n",
              " 'totalcharges=1530.6': -0.013,\n",
              " 'totalcharges=1531.4': 0.022,\n",
              " 'totalcharges=1532.45': 0.037,\n",
              " 'totalcharges=1534.75': 0.024,\n",
              " 'totalcharges=1536.75': -0.014,\n",
              " 'totalcharges=1537.9': -0.051,\n",
              " 'totalcharges=1539.45': 0.052,\n",
              " 'totalcharges=1539.75': -0.001,\n",
              " 'totalcharges=1539.8': -0.067,\n",
              " 'totalcharges=154.3': -0.073,\n",
              " 'totalcharges=154.55': -0.034,\n",
              " 'totalcharges=154.85': 0.035,\n",
              " 'totalcharges=1540.35': -0.048,\n",
              " 'totalcharges=1544.05': 0.089,\n",
              " 'totalcharges=1546.3': -0.005,\n",
              " 'totalcharges=155.35': 0.031,\n",
              " 'totalcharges=155.65': 0.049,\n",
              " 'totalcharges=155.8': 0.035,\n",
              " 'totalcharges=155.9': -0.015,\n",
              " 'totalcharges=1551.6': -0.002,\n",
              " 'totalcharges=1553.2': -0.013,\n",
              " 'totalcharges=1554': 0.048,\n",
              " 'totalcharges=1556.85': -0.045,\n",
              " 'totalcharges=1558.65': -0.009,\n",
              " 'totalcharges=1559.15': -0.002,\n",
              " 'totalcharges=1559.45': -0.017,\n",
              " 'totalcharges=156.25': 0.083,\n",
              " 'totalcharges=1561.5': 0.072,\n",
              " 'totalcharges=1563.9': -0.076,\n",
              " 'totalcharges=1564.05': -0.004,\n",
              " 'totalcharges=1566.75': -0.064,\n",
              " 'totalcharges=1567': -0.001,\n",
              " 'totalcharges=1567.55': -0.006,\n",
              " 'totalcharges=157.55': -0.021,\n",
              " 'totalcharges=157.65': -0.014,\n",
              " 'totalcharges=1573.7': 0.042,\n",
              " 'totalcharges=1573.95': -0.026,\n",
              " 'totalcharges=158.35': -0.016,\n",
              " 'totalcharges=158.4': 0.023,\n",
              " 'totalcharges=158.95': -0.015,\n",
              " 'totalcharges=1581.95': -0.01,\n",
              " 'totalcharges=1587.55': 0.022,\n",
              " 'totalcharges=1588.7': -0.017,\n",
              " 'totalcharges=159.4': 0.025,\n",
              " 'totalcharges=159.45': 0.033,\n",
              " 'totalcharges=1593.1': -0.006,\n",
              " 'totalcharges=1594.75': -0.059,\n",
              " 'totalcharges=1595.5': -0.002,\n",
              " 'totalcharges=1596.6': -0.013,\n",
              " 'totalcharges=1597.25': 0.036,\n",
              " 'totalcharges=1597.4': -0.016,\n",
              " 'totalcharges=160.8': 0.058,\n",
              " 'totalcharges=1600.25': -0.051,\n",
              " 'totalcharges=1601.2': -0.002,\n",
              " 'totalcharges=1601.5': -0.05,\n",
              " 'totalcharges=1604.5': 0.091,\n",
              " 'totalcharges=1608.15': -0.075,\n",
              " 'totalcharges=161.45': -0.038,\n",
              " 'totalcharges=161.5': 0.023,\n",
              " 'totalcharges=161.65': -0.007,\n",
              " 'totalcharges=1611.15': -0.019,\n",
              " 'totalcharges=1611.65': -0.016,\n",
              " 'totalcharges=1612.75': 0.039,\n",
              " 'totalcharges=1614.05': -0.034,\n",
              " 'totalcharges=1614.2': -0.047,\n",
              " 'totalcharges=1614.7': -0.077,\n",
              " 'totalcharges=1615.1': -0.052,\n",
              " 'totalcharges=1617.5': 0.043,\n",
              " 'totalcharges=1618.2': -0.001,\n",
              " 'totalcharges=162.3': -0.019,\n",
              " 'totalcharges=162.45': -0.053,\n",
              " 'totalcharges=1620.2': -0.018,\n",
              " 'totalcharges=1621.35': -0.011,\n",
              " 'totalcharges=1622.45': 0.024,\n",
              " 'totalcharges=1623.4': -0.006,\n",
              " 'totalcharges=1625': 0.088,\n",
              " 'totalcharges=1625.65': 0.052,\n",
              " 'totalcharges=1629.2': -0.001,\n",
              " 'totalcharges=163.55': -0.036,\n",
              " 'totalcharges=163.7': -0.011,\n",
              " 'totalcharges=1630.4': -0.006,\n",
              " 'totalcharges=1633': -0.045,\n",
              " 'totalcharges=1636.95': -0.012,\n",
              " 'totalcharges=1637.3': -0.052,\n",
              " 'totalcharges=1638.7': -0.001,\n",
              " 'totalcharges=164.6': -0.012,\n",
              " 'totalcharges=164.85': 0.083,\n",
              " 'totalcharges=1640': -0.054,\n",
              " 'totalcharges=1641.3': -0.045,\n",
              " 'totalcharges=1641.8': -0.001,\n",
              " 'totalcharges=1642.75': -0.039,\n",
              " 'totalcharges=1643.25': -0.001,\n",
              " 'totalcharges=1647': -0.01,\n",
              " 'totalcharges=1648.45': -0.057,\n",
              " 'totalcharges=165': 0.043,\n",
              " 'totalcharges=165.5': -0.007,\n",
              " 'totalcharges=1652.1': -0.028,\n",
              " 'totalcharges=1652.95': -0.015,\n",
              " 'totalcharges=1653.45': -0.029,\n",
              " 'totalcharges=1654.7': -0.007,\n",
              " 'totalcharges=1654.75': -0.001,\n",
              " 'totalcharges=1657.4': -0.001,\n",
              " 'totalcharges=166.3': 0.025,\n",
              " 'totalcharges=1660': 0.039,\n",
              " 'totalcharges=1662.05': -0.008,\n",
              " 'totalcharges=1663.5': -0.001,\n",
              " 'totalcharges=1663.75': -0.022,\n",
              " 'totalcharges=1664.3': -0.001,\n",
              " 'totalcharges=1665.2': -0.021,\n",
              " 'totalcharges=1667.25': -0.027,\n",
              " 'totalcharges=1669.4': -0.05,\n",
              " 'totalcharges=167.3': 0.027,\n",
              " 'totalcharges=167.5': 0.026,\n",
              " 'totalcharges=1672.1': -0.041,\n",
              " 'totalcharges=1672.15': -0.001,\n",
              " 'totalcharges=1672.35': -0.038,\n",
              " 'totalcharges=1673.8': -0.001,\n",
              " 'totalcharges=1676.95': 0.044,\n",
              " 'totalcharges=1677.85': -0.027,\n",
              " 'totalcharges=1678.05': -0.001,\n",
              " 'totalcharges=1679.4': -0.053,\n",
              " 'totalcharges=1679.65': -0.021,\n",
              " 'totalcharges=168.15': 0.056,\n",
              " 'totalcharges=168.2': 0.021,\n",
              " 'totalcharges=168.5': -0.061,\n",
              " 'totalcharges=168.65': -0.019,\n",
              " 'totalcharges=168.9': -0.018,\n",
              " 'totalcharges=1680.25': -0.001,\n",
              " 'totalcharges=1682.4': -0.035,\n",
              " 'totalcharges=1683.7': -0.041,\n",
              " 'totalcharges=1686.85': -0.039,\n",
              " 'totalcharges=1688.9': -0.001,\n",
              " 'totalcharges=169.45': 0.055,\n",
              " 'totalcharges=1692.6': 0.041,\n",
              " 'totalcharges=1696.2': -0.007,\n",
              " 'totalcharges=1699.15': -0.001,\n",
              " 'totalcharges=170.5': -0.057,\n",
              " 'totalcharges=1702.9': -0.042,\n",
              " 'totalcharges=1704.95': 0.068,\n",
              " 'totalcharges=1706.45': -0.053,\n",
              " 'totalcharges=1709.1': -0.001,\n",
              " 'totalcharges=171': -0.013,\n",
              " 'totalcharges=171.45': -0.077,\n",
              " 'totalcharges=1710.15': -0.001,\n",
              " 'totalcharges=1712.7': 0.04,\n",
              " 'totalcharges=1712.9': -0.009,\n",
              " 'totalcharges=1714.55': -0.002,\n",
              " 'totalcharges=1714.95': -0.001,\n",
              " 'totalcharges=1715.15': -0.001,\n",
              " 'totalcharges=1718.2': -0.001,\n",
              " 'totalcharges=1718.35': -0.002,\n",
              " 'totalcharges=1718.95': -0.02,\n",
              " 'totalcharges=1719.15': -0.001,\n",
              " 'totalcharges=172.35': -0.008,\n",
              " 'totalcharges=1723.95': -0.001,\n",
              " 'totalcharges=1725.4': -0.001,\n",
              " 'totalcharges=1725.95': -0.032,\n",
              " 'totalcharges=1727.5': 0.031,\n",
              " 'totalcharges=1728.2': -0.001,\n",
              " 'totalcharges=1729.35': -0.035,\n",
              " 'totalcharges=173': -0.019,\n",
              " 'totalcharges=173.15': -0.009,\n",
              " 'totalcharges=1730.35': 0.044,\n",
              " 'totalcharges=1730.65': -0.001,\n",
              " 'totalcharges=1732.6': -0.038,\n",
              " 'totalcharges=1733.15': -0.002,\n",
              " 'totalcharges=1734.2': -0.017,\n",
              " 'totalcharges=1739.6': -0.025,\n",
              " 'totalcharges=174.2': -0.04,\n",
              " 'totalcharges=174.3': 0.032,\n",
              " 'totalcharges=174.45': -0.07,\n",
              " 'totalcharges=174.65': -0.007,\n",
              " 'totalcharges=174.8': 0.016,\n",
              " 'totalcharges=1740.8': -0.002,\n",
              " 'totalcharges=1742.45': -0.022,\n",
              " 'totalcharges=1742.5': -0.071,\n",
              " 'totalcharges=1742.95': 0.034,\n",
              " 'totalcharges=1743.9': -0.047,\n",
              " 'totalcharges=1745.2': -0.066,\n",
              " 'totalcharges=1745.5': -0.063,\n",
              " 'totalcharges=1747.2': -0.035,\n",
              " 'totalcharges=1747.85': 0.044,\n",
              " 'totalcharges=1748.55': -0.002,\n",
              " 'totalcharges=1748.9': -0.005,\n",
              " 'totalcharges=1750.7': -0.001,\n",
              " 'totalcharges=1750.85': -0.03,\n",
              " 'totalcharges=1752.45': -0.066,\n",
              " 'totalcharges=1752.55': 0.024,\n",
              " 'totalcharges=1752.65': -0.025,\n",
              " 'totalcharges=1753': -0.001,\n",
              " 'totalcharges=1755.35': -0.003,\n",
              " 'totalcharges=1756.2': -0.001,\n",
              " 'totalcharges=1756.6': -0.023,\n",
              " 'totalcharges=1758.9': -0.009,\n",
              " 'totalcharges=1759.4': -0.011,\n",
              " 'totalcharges=1759.55': -0.001,\n",
              " 'totalcharges=176.2': -0.038,\n",
              " 'totalcharges=176.3': -0.008,\n",
              " 'totalcharges=1760.25': -0.076,\n",
              " 'totalcharges=1761.05': 0.041,\n",
              " 'totalcharges=1763.55': -0.002,\n",
              " 'totalcharges=1764.75': -0.001,\n",
              " 'totalcharges=1765.95': -0.042,\n",
              " 'totalcharges=1766.75': -0.001,\n",
              " 'totalcharges=177.4': -0.028,\n",
              " 'totalcharges=1775.8': 0.032,\n",
              " 'totalcharges=1776': -0.001,\n",
              " 'totalcharges=1776.45': -0.001,\n",
              " 'totalcharges=1776.55': 0.036,\n",
              " 'totalcharges=1776.95': 0.037,\n",
              " 'totalcharges=1777.6': -0.001,\n",
              " 'totalcharges=1777.9': 0.035,\n",
              " 'totalcharges=178.1': 0.03,\n",
              " 'totalcharges=178.7': 0.015,\n",
              " 'totalcharges=178.8': -0.014,\n",
              " 'totalcharges=1781.35': -0.058,\n",
              " 'totalcharges=1782': -0.002,\n",
              " 'totalcharges=1782.4': 0.031,\n",
              " 'totalcharges=1784.5': -0.001,\n",
              " 'totalcharges=1789.25': 0.043,\n",
              " 'totalcharges=1789.65': -0.001,\n",
              " 'totalcharges=1789.9': -0.001,\n",
              " 'totalcharges=179.25': 0.018,\n",
              " 'totalcharges=179.35': 0.071,\n",
              " 'totalcharges=1790.15': -0.001,\n",
              " 'totalcharges=1790.6': -0.005,\n",
              " 'totalcharges=1790.65': -0.055,\n",
              " 'totalcharges=1790.8': -0.001,\n",
              " 'totalcharges=1793.25': -0.039,\n",
              " 'totalcharges=1794.65': -0.05,\n",
              " 'totalcharges=1797.1': -0.001,\n",
              " 'totalcharges=1797.75': -0.046,\n",
              " 'totalcharges=1798.9': -0.001,\n",
              " 'totalcharges=18.8': -0.011,\n",
              " 'totalcharges=18.85': 0.055,\n",
              " 'totalcharges=18.9': -0.017,\n",
              " 'totalcharges=1801.1': -0.011,\n",
              " 'totalcharges=1802.15': -0.026,\n",
              " 'totalcharges=1802.55': -0.002,\n",
              " 'totalcharges=1803.7': -0.035,\n",
              " 'totalcharges=1808.7': 0.031,\n",
              " 'totalcharges=181.1': 0.026,\n",
              " 'totalcharges=181.5': 0.022,\n",
              " 'totalcharges=181.65': -0.028,\n",
              " 'totalcharges=181.7': 0.014,\n",
              " 'totalcharges=1810.85': -0.022,\n",
              " 'totalcharges=1813.1': -0.052,\n",
              " 'totalcharges=1813.35': -0.001,\n",
              " 'totalcharges=1815.3': -0.01,\n",
              " 'totalcharges=1816.2': -0.002,\n",
              " 'totalcharges=1818.3': -0.02,\n",
              " 'totalcharges=1818.9': -0.049,\n",
              " 'totalcharges=183.15': -0.01,\n",
              " 'totalcharges=183.75': 0.031,\n",
              " 'totalcharges=1830.1': -0.011,\n",
              " 'totalcharges=1832.4': -0.017,\n",
              " 'totalcharges=1835.3': -0.055,\n",
              " 'totalcharges=1836.25': 0.038,\n",
              " 'totalcharges=1836.9': -0.001,\n",
              " 'totalcharges=184.05': -0.018,\n",
              " 'totalcharges=184.15': -0.06,\n",
              " 'totalcharges=184.4': 0.059,\n",
              " 'totalcharges=184.95': -0.011,\n",
              " 'totalcharges=1840.75': -0.004,\n",
              " 'totalcharges=1841.2': -0.001,\n",
              " 'totalcharges=1843.05': -0.023,\n",
              " 'totalcharges=1845.9': 0.053,\n",
              " 'totalcharges=1847.55': -0.001,\n",
              " 'totalcharges=185.2': -0.011,\n",
              " 'totalcharges=185.55': 0.025,\n",
              " 'totalcharges=1851.45': -0.001,\n",
              " 'totalcharges=1855.65': 0.046,\n",
              " 'totalcharges=1856.4': -0.001,\n",
              " 'totalcharges=1857.25': -0.047,\n",
              " 'totalcharges=1857.75': -0.048,\n",
              " 'totalcharges=1859.1': -0.001,\n",
              " 'totalcharges=1859.2': -0.001,\n",
              " 'totalcharges=186.05': -0.081,\n",
              " 'totalcharges=186.15': -0.014,\n",
              " 'totalcharges=1861.5': 0.046,\n",
              " 'totalcharges=1863.8': 0.092,\n",
              " 'totalcharges=1864.2': -0.001,\n",
              " 'totalcharges=1864.65': -0.007,\n",
              " 'totalcharges=1867.6': -0.016,\n",
              " 'totalcharges=1868.4': -0.054,\n",
              " 'totalcharges=1871.85': -0.001,\n",
              " 'totalcharges=1873.7': 0.033,\n",
              " 'totalcharges=1874.3': -0.001,\n",
              " 'totalcharges=1875.25': -0.003,\n",
              " 'totalcharges=1875.55': 0.049,\n",
              " 'totalcharges=188.7': 0.061,\n",
              " 'totalcharges=1880.85': 0.084,\n",
              " 'totalcharges=1885.15': -0.005,\n",
              " 'totalcharges=1886.4': -0.007,\n",
              " 'totalcharges=1887': -0.001,\n",
              " 'totalcharges=1888.25': -0.001,\n",
              " 'totalcharges=1888.65': 0.07,\n",
              " 'totalcharges=1889.5': -0.005,\n",
              " 'totalcharges=189.95': -0.039,\n",
              " 'totalcharges=1893.5': -0.007,\n",
              " 'totalcharges=1898.1': -0.001,\n",
              " 'totalcharges=19': -0.024,\n",
              " 'totalcharges=19.05': -0.017,\n",
              " 'totalcharges=19.1': 0.055,\n",
              " 'totalcharges=19.15': -0.018,\n",
              " 'totalcharges=19.2': -0.037,\n",
              " 'totalcharges=19.25': 0.059,\n",
              " 'totalcharges=19.3': 0.113,\n",
              " 'totalcharges=19.4': 0.038,\n",
              " 'totalcharges=19.45': 0.124,\n",
              " 'totalcharges=19.5': -0.047,\n",
              " 'totalcharges=19.55': 0.044,\n",
              " 'totalcharges=19.6': 0.074,\n",
              " 'totalcharges=19.65': 0.077,\n",
              " 'totalcharges=19.7': 0.062,\n",
              " 'totalcharges=19.75': 0.026,\n",
              " 'totalcharges=19.9': 0.11,\n",
              " 'totalcharges=19.95': 0.141,\n",
              " 'totalcharges=190.05': 0.045,\n",
              " 'totalcharges=1901': -0.001,\n",
              " 'totalcharges=1901.25': -0.007,\n",
              " 'totalcharges=1901.65': -0.039,\n",
              " 'totalcharges=1905.4': -0.031,\n",
              " 'totalcharges=1905.7': -0.018,\n",
              " 'totalcharges=1908.35': -0.008,\n",
              " 'totalcharges=191.35': 0.051,\n",
              " 'totalcharges=1910.6': 0.044,\n",
              " 'totalcharges=1910.75': -0.009,\n",
              " 'totalcharges=1911.5': -0.001,\n",
              " 'totalcharges=1912.85': -0.012,\n",
              " 'totalcharges=1914.9': 0.04,\n",
              " 'totalcharges=1916.2': -0.052,\n",
              " 'totalcharges=1923.5': -0.01,\n",
              " 'totalcharges=1924.1': -0.005,\n",
              " 'totalcharges=1927.3': -0.006,\n",
              " 'totalcharges=1929.35': 0.061,\n",
              " 'totalcharges=1929.95': -0.008,\n",
              " 'totalcharges=193.05': -0.018,\n",
              " 'totalcharges=193.6': 0.057,\n",
              " 'totalcharges=1931.3': -0.008,\n",
              " 'totalcharges=1936.85': -0.021,\n",
              " 'totalcharges=1938.05': -0.036,\n",
              " 'totalcharges=1938.9': -0.063,\n",
              " 'totalcharges=1939.35': -0.004,\n",
              " 'totalcharges=194.55': -0.051,\n",
              " 'totalcharges=1940.8': -0.017,\n",
              " 'totalcharges=1940.85': -0.001,\n",
              " 'totalcharges=1943.2': 0.046,\n",
              " 'totalcharges=1949.4': -0.054,\n",
              " 'totalcharges=195.05': 0.022,\n",
              " 'totalcharges=195.3': 0.058,\n",
              " 'totalcharges=195.65': -0.028,\n",
              " 'totalcharges=1952.25': -0.023,\n",
              " 'totalcharges=1952.8': -0.006,\n",
              " 'totalcharges=1955.4': -0.007,\n",
              " 'totalcharges=1957.1': -0.022,\n",
              " 'totalcharges=1958.45': -0.007,\n",
              " 'totalcharges=196.4': -0.06,\n",
              " 'totalcharges=196.75': -0.003,\n",
              " 'totalcharges=196.9': -0.015,\n",
              " 'totalcharges=1964.6': -0.014,\n",
              " ...}"
            ]
          },
          "metadata": {},
          "execution_count": 83
        }
      ]
    },
    {
      "cell_type": "code",
      "metadata": {
        "id": "Qq22ARYC3qkW"
      },
      "source": [
        "small = ['contract', 'tenure', 'monthlycharges']"
      ],
      "execution_count": null,
      "outputs": []
    },
    {
      "cell_type": "code",
      "metadata": {
        "colab": {
          "base_uri": "https://localhost:8080/"
        },
        "id": "kjXXCIpZ3wkv",
        "outputId": "62b37e80-cb18-4e29-cffb-647d547be6a1"
      },
      "source": [
        "df_train[small].iloc[:10].to_dict(orient='records')"
      ],
      "execution_count": null,
      "outputs": [
        {
          "output_type": "execute_result",
          "data": {
            "text/plain": [
              "[{'contract': 'two_year', 'monthlycharges': 115.5, 'tenure': 72},\n",
              " {'contract': 'month-to-month', 'monthlycharges': 95.25, 'tenure': 10},\n",
              " {'contract': 'month-to-month', 'monthlycharges': 75.55, 'tenure': 5},\n",
              " {'contract': 'month-to-month', 'monthlycharges': 80.85, 'tenure': 5},\n",
              " {'contract': 'two_year', 'monthlycharges': 20.1, 'tenure': 18},\n",
              " {'contract': 'month-to-month', 'monthlycharges': 30.5, 'tenure': 4},\n",
              " {'contract': 'month-to-month', 'monthlycharges': 75.1, 'tenure': 1},\n",
              " {'contract': 'month-to-month', 'monthlycharges': 70.3, 'tenure': 1},\n",
              " {'contract': 'two_year', 'monthlycharges': 19.75, 'tenure': 72},\n",
              " {'contract': 'month-to-month', 'monthlycharges': 109.9, 'tenure': 6}]"
            ]
          },
          "metadata": {},
          "execution_count": 85
        }
      ]
    },
    {
      "cell_type": "code",
      "metadata": {
        "id": "jwWdkibP3x-V"
      },
      "source": [
        "dicts_train_small = df_train[small].to_dict(orient='records')\n",
        "dicts_val_small = df_val[small].to_dict(orient='records')"
      ],
      "execution_count": null,
      "outputs": []
    },
    {
      "cell_type": "code",
      "metadata": {
        "colab": {
          "base_uri": "https://localhost:8080/"
        },
        "id": "IP34Zsnp33p-",
        "outputId": "0f960bb1-9acf-40bf-824c-6bf8153566a6"
      },
      "source": [
        "dv_small = DictVectorizer(sparse=False)\n",
        "dv_small.fit(dicts_train_small)"
      ],
      "execution_count": null,
      "outputs": [
        {
          "output_type": "execute_result",
          "data": {
            "text/plain": [
              "DictVectorizer(sparse=False)"
            ]
          },
          "metadata": {},
          "execution_count": 87
        }
      ]
    },
    {
      "cell_type": "code",
      "metadata": {
        "colab": {
          "base_uri": "https://localhost:8080/"
        },
        "id": "co-mjy6V4Ay2",
        "outputId": "202b1c07-ed44-4fa4-b7a8-26f23727099d"
      },
      "source": [
        "dv_small.get_feature_names()"
      ],
      "execution_count": null,
      "outputs": [
        {
          "output_type": "stream",
          "name": "stderr",
          "text": [
            "/usr/local/lib/python3.7/dist-packages/sklearn/utils/deprecation.py:87: FutureWarning: Function get_feature_names is deprecated; get_feature_names is deprecated in 1.0 and will be removed in 1.2. Please use get_feature_names_out instead.\n",
            "  warnings.warn(msg, category=FutureWarning)\n"
          ]
        },
        {
          "output_type": "execute_result",
          "data": {
            "text/plain": [
              "['contract=month-to-month',\n",
              " 'contract=one_year',\n",
              " 'contract=two_year',\n",
              " 'monthlycharges',\n",
              " 'tenure']"
            ]
          },
          "metadata": {},
          "execution_count": 88
        }
      ]
    },
    {
      "cell_type": "code",
      "metadata": {
        "id": "B3o2w8404Eb7"
      },
      "source": [
        "X_train_small = dv_small.transform(dicts_train_small)"
      ],
      "execution_count": null,
      "outputs": []
    },
    {
      "cell_type": "code",
      "metadata": {
        "colab": {
          "base_uri": "https://localhost:8080/"
        },
        "id": "0cZrBrG-4Pc1",
        "outputId": "dca9cfd6-f6cd-49d6-c052-137fc19f2fad"
      },
      "source": [
        "model_small = LogisticRegression(solver='lbfgs')\n",
        "model_small.fit(X_train_small, y_train)"
      ],
      "execution_count": null,
      "outputs": [
        {
          "output_type": "execute_result",
          "data": {
            "text/plain": [
              "LogisticRegression()"
            ]
          },
          "metadata": {},
          "execution_count": 90
        }
      ]
    },
    {
      "cell_type": "code",
      "metadata": {
        "colab": {
          "base_uri": "https://localhost:8080/"
        },
        "id": "M3AmVGqN4TfU",
        "outputId": "abec0a20-95cc-40d4-bf88-92b072e376bd"
      },
      "source": [
        "w0 = model_small.intercept_[0]\n",
        "w0"
      ],
      "execution_count": null,
      "outputs": [
        {
          "output_type": "execute_result",
          "data": {
            "text/plain": [
              "-2.4767756644296837"
            ]
          },
          "metadata": {},
          "execution_count": 91
        }
      ]
    },
    {
      "cell_type": "code",
      "metadata": {
        "colab": {
          "base_uri": "https://localhost:8080/"
        },
        "id": "Xv41dxM-4VqR",
        "outputId": "b94673a0-b0a7-4003-aaa5-1d3b13126a87"
      },
      "source": [
        "w = model_small.coef_[0]\n",
        "w.round(3)\n"
      ],
      "execution_count": null,
      "outputs": [
        {
          "output_type": "execute_result",
          "data": {
            "text/plain": [
              "array([ 0.97 , -0.025, -0.949,  0.027, -0.036])"
            ]
          },
          "metadata": {},
          "execution_count": 92
        }
      ]
    },
    {
      "cell_type": "code",
      "metadata": {
        "colab": {
          "base_uri": "https://localhost:8080/"
        },
        "id": "2EedmooS4XqC",
        "outputId": "c11dc082-6d42-4e8e-8c74-13ff1c3aa393"
      },
      "source": [
        "dict(zip(dv_small.get_feature_names(), w.round(3)))"
      ],
      "execution_count": null,
      "outputs": [
        {
          "output_type": "stream",
          "name": "stderr",
          "text": [
            "/usr/local/lib/python3.7/dist-packages/sklearn/utils/deprecation.py:87: FutureWarning: Function get_feature_names is deprecated; get_feature_names is deprecated in 1.0 and will be removed in 1.2. Please use get_feature_names_out instead.\n",
            "  warnings.warn(msg, category=FutureWarning)\n"
          ]
        },
        {
          "output_type": "execute_result",
          "data": {
            "text/plain": [
              "{'contract=month-to-month': 0.97,\n",
              " 'contract=one_year': -0.025,\n",
              " 'contract=two_year': -0.949,\n",
              " 'monthlycharges': 0.027,\n",
              " 'tenure': -0.036}"
            ]
          },
          "metadata": {},
          "execution_count": 93
        }
      ]
    },
    {
      "cell_type": "code",
      "metadata": {
        "colab": {
          "base_uri": "https://localhost:8080/"
        },
        "id": "l5P6R4OX4iWM",
        "outputId": "790fa1de-a224-4545-9206-660292f2380e"
      },
      "source": [
        "-2.47 + (-0.949) + 30 * 0.027 + 24 * (-0.036)"
      ],
      "execution_count": null,
      "outputs": [
        {
          "output_type": "execute_result",
          "data": {
            "text/plain": [
              "-3.473"
            ]
          },
          "metadata": {},
          "execution_count": 94
        }
      ]
    },
    {
      "cell_type": "code",
      "metadata": {
        "colab": {
          "base_uri": "https://localhost:8080/"
        },
        "id": "V1vDL7v44kny",
        "outputId": "9facfac0-a13d-402b-c114-0959e38d7a82"
      },
      "source": [
        "sigmoid(_)"
      ],
      "execution_count": null,
      "outputs": [
        {
          "output_type": "execute_result",
          "data": {
            "text/plain": [
              "0.030090303318277657"
            ]
          },
          "metadata": {},
          "execution_count": 95
        }
      ]
    },
    {
      "cell_type": "markdown",
      "metadata": {
        "id": "0yBGIvgN4nNV"
      },
      "source": [
        "**Using the model**"
      ]
    },
    {
      "cell_type": "code",
      "metadata": {
        "id": "iJz9ANvn4keb"
      },
      "source": [
        "dicts_full_train = df_full_train[categorical + numerical].to_dict(orient='records')\n"
      ],
      "execution_count": null,
      "outputs": []
    },
    {
      "cell_type": "code",
      "metadata": {
        "id": "inYtCJqj4u2M"
      },
      "source": [
        "dv = DictVectorizer(sparse=False)\n",
        "X_full_train = dv.fit_transform(dicts_full_train)"
      ],
      "execution_count": null,
      "outputs": []
    },
    {
      "cell_type": "code",
      "metadata": {
        "id": "10jhO0zQ4v0o"
      },
      "source": [
        "y_full_train = df_full_train.churn.values"
      ],
      "execution_count": null,
      "outputs": []
    },
    {
      "cell_type": "code",
      "metadata": {
        "colab": {
          "base_uri": "https://localhost:8080/"
        },
        "id": "H7_9YFV44x9L",
        "outputId": "59a0cf3c-288d-4ff7-a194-316f2d263d7a"
      },
      "source": [
        "model = LogisticRegression(solver='lbfgs')\n",
        "model.fit(X_full_train, y_full_train)"
      ],
      "execution_count": null,
      "outputs": [
        {
          "output_type": "stream",
          "name": "stderr",
          "text": [
            "/usr/local/lib/python3.7/dist-packages/sklearn/linear_model/_logistic.py:818: ConvergenceWarning: lbfgs failed to converge (status=1):\n",
            "STOP: TOTAL NO. of ITERATIONS REACHED LIMIT.\n",
            "\n",
            "Increase the number of iterations (max_iter) or scale the data as shown in:\n",
            "    https://scikit-learn.org/stable/modules/preprocessing.html\n",
            "Please also refer to the documentation for alternative solver options:\n",
            "    https://scikit-learn.org/stable/modules/linear_model.html#logistic-regression\n",
            "  extra_warning_msg=_LOGISTIC_SOLVER_CONVERGENCE_MSG,\n"
          ]
        },
        {
          "output_type": "execute_result",
          "data": {
            "text/plain": [
              "LogisticRegression()"
            ]
          },
          "metadata": {},
          "execution_count": 99
        }
      ]
    },
    {
      "cell_type": "code",
      "metadata": {
        "id": "fkJQQ4Zi41d9"
      },
      "source": [
        "dicts_test = df_test[categorical + numerical].to_dict(orient='records')"
      ],
      "execution_count": null,
      "outputs": []
    },
    {
      "cell_type": "code",
      "metadata": {
        "id": "0-6hGdRl48On"
      },
      "source": [
        "X_test = dv.transform(dicts_test)"
      ],
      "execution_count": null,
      "outputs": []
    },
    {
      "cell_type": "code",
      "metadata": {
        "id": "WaG5I5TT48Mv"
      },
      "source": [
        "X_test = dv.transform(dicts_test)"
      ],
      "execution_count": null,
      "outputs": []
    },
    {
      "cell_type": "code",
      "metadata": {
        "id": "-FypHXn048Jl"
      },
      "source": [
        "churn_decision = (y_pred >= 0.5)"
      ],
      "execution_count": null,
      "outputs": []
    },
    {
      "cell_type": "code",
      "metadata": {
        "colab": {
          "base_uri": "https://localhost:8080/",
          "height": 200
        },
        "id": "XgdIK6eI48Dv",
        "outputId": "7131725c-b5e8-402a-9f17-4545b12871d7"
      },
      "source": [
        "(churn_decision == y_test).mean()"
      ],
      "execution_count": null,
      "outputs": [
        {
          "output_type": "stream",
          "name": "stderr",
          "text": [
            "/usr/local/lib/python3.7/dist-packages/ipykernel_launcher.py:1: DeprecationWarning: elementwise comparison failed; this will raise an error in the future.\n",
            "  \"\"\"Entry point for launching an IPython kernel.\n"
          ]
        },
        {
          "output_type": "error",
          "ename": "AttributeError",
          "evalue": "ignored",
          "traceback": [
            "\u001b[0;31m---------------------------------------------------------------------------\u001b[0m",
            "\u001b[0;31mAttributeError\u001b[0m                            Traceback (most recent call last)",
            "\u001b[0;32m<ipython-input-104-640f8643298b>\u001b[0m in \u001b[0;36m<module>\u001b[0;34m()\u001b[0m\n\u001b[0;32m----> 1\u001b[0;31m \u001b[0;34m(\u001b[0m\u001b[0mchurn_decision\u001b[0m \u001b[0;34m==\u001b[0m \u001b[0my_test\u001b[0m\u001b[0;34m)\u001b[0m\u001b[0;34m.\u001b[0m\u001b[0mmean\u001b[0m\u001b[0;34m(\u001b[0m\u001b[0;34m)\u001b[0m\u001b[0;34m\u001b[0m\u001b[0;34m\u001b[0m\u001b[0m\n\u001b[0m",
            "\u001b[0;31mAttributeError\u001b[0m: 'bool' object has no attribute 'mean'"
          ]
        }
      ]
    },
    {
      "cell_type": "code",
      "metadata": {
        "colab": {
          "base_uri": "https://localhost:8080/"
        },
        "id": "yLHIXZes477_",
        "outputId": "7d4928d3-fe3e-4828-f2b6-90bae37ee804"
      },
      "source": [
        "y_test"
      ],
      "execution_count": null,
      "outputs": [
        {
          "output_type": "execute_result",
          "data": {
            "text/plain": [
              "array([0, 0, 1, ..., 1, 0, 1])"
            ]
          },
          "metadata": {},
          "execution_count": 105
        }
      ]
    },
    {
      "cell_type": "code",
      "metadata": {
        "colab": {
          "base_uri": "https://localhost:8080/"
        },
        "id": "nnIZCld75CbY",
        "outputId": "0fd0a681-744d-4738-c02f-13e211fbe956"
      },
      "source": [
        "customer = dicts_test[-1]\n",
        "customer"
      ],
      "execution_count": null,
      "outputs": [
        {
          "output_type": "execute_result",
          "data": {
            "text/plain": [
              "{'contract': 'month-to-month',\n",
              " 'dependents': 'yes',\n",
              " 'deviceprotection': 'yes',\n",
              " 'gender': 'female',\n",
              " 'internetservice': 'fiber_optic',\n",
              " 'monthlycharges': 104.2,\n",
              " 'multiplelines': 'yes',\n",
              " 'onlinebackup': 'no',\n",
              " 'onlinesecurity': 'yes',\n",
              " 'paperlessbilling': 'yes',\n",
              " 'partner': 'yes',\n",
              " 'paymentmethod': 'electronic_check',\n",
              " 'phoneservice': 'yes',\n",
              " 'seniorcitizen': 0,\n",
              " 'streamingmovies': 'yes',\n",
              " 'streamingtv': 'yes',\n",
              " 'techsupport': 'no',\n",
              " 'tenure': 17,\n",
              " 'totalcharges': '1743.5'}"
            ]
          },
          "metadata": {},
          "execution_count": 106
        }
      ]
    },
    {
      "cell_type": "code",
      "metadata": {
        "id": "V6Nfz1HW5Jgm"
      },
      "source": [
        "X_small = dv.transform([customer])"
      ],
      "execution_count": null,
      "outputs": []
    },
    {
      "cell_type": "code",
      "metadata": {
        "colab": {
          "base_uri": "https://localhost:8080/"
        },
        "id": "TH-nYnRK5LxF",
        "outputId": "d0a230d5-787e-4fdb-a88b-8f75695007da"
      },
      "source": [
        "model.predict_proba(X_small)[0, 1]"
      ],
      "execution_count": null,
      "outputs": [
        {
          "output_type": "execute_result",
          "data": {
            "text/plain": [
              "0.7138702775967599"
            ]
          },
          "metadata": {},
          "execution_count": 108
        }
      ]
    },
    {
      "cell_type": "code",
      "metadata": {
        "colab": {
          "base_uri": "https://localhost:8080/"
        },
        "id": "sJaREvVf5NUt",
        "outputId": "86365bd5-cd08-497c-d0e2-05ac52249164"
      },
      "source": [
        "y_test[-1]"
      ],
      "execution_count": null,
      "outputs": [
        {
          "output_type": "execute_result",
          "data": {
            "text/plain": [
              "1"
            ]
          },
          "metadata": {},
          "execution_count": 109
        }
      ]
    }
  ]
}